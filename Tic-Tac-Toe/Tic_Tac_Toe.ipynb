{
  "nbformat": 4,
  "nbformat_minor": 0,
  "metadata": {
    "colab": {
      "provenance": [],
      "gpuType": "T4"
    },
    "kernelspec": {
      "name": "python3",
      "display_name": "Python 3"
    },
    "language_info": {
      "name": "python"
    },
    "accelerator": "GPU"
  },
  "cells": [
    {
      "cell_type": "markdown",
      "source": [
        "**Method 1**"
      ],
      "metadata": {
        "id": "oQULMKXAN3Qu"
      }
    },
    {
      "cell_type": "code",
      "source": [
        "def check_winner(board):\n",
        "    # Check rows, columns, and diagonals for a winner\n",
        "    for i in range(3):\n",
        "        if all(board[i][j] == board[i][0] and board[i][0] != 0 for j in range(3)):\n",
        "            return board[i][0]  # Winner in a row\n",
        "        if all(board[j][i] == board[0][i] and board[0][i] != 0 for j in range(3)):\n",
        "            return board[0][i]  # Winner in a column\n",
        "\n",
        "    if all(board[i][i] == board[0][0] and board[0][0] != 0 for i in range(3)):\n",
        "        return board[0][0]  # Winner in the main diagonal\n",
        "\n",
        "    if all(board[i][2 - i] == board[0][2] and board[0][2] != 0 for i in range(3)):\n",
        "        return board[0][2]  # Winner in the other diagonal\n",
        "\n",
        "    return 0  # No winner\n",
        "\n",
        "def check_draw(board):\n",
        "    # Check if the board is full, indicating a draw\n",
        "    return all(cell != 0 for row in board for cell in row)\n",
        "\n",
        "def display_board(board):\n",
        "    # Display the Tic Tac Toe board\n",
        "    print('\\n' + '---------------')\n",
        "    for row in board:\n",
        "        for cell in row:\n",
        "            symbol = 'X' if cell == 1 else 'O' if cell == -1 else ' '\n",
        "            print(f'| {symbol} |', end='')\n",
        "        print('\\n' + '---------------')\n",
        "\n",
        "def play_tic_tac_toe():\n",
        "    board = [[0, 0, 0], [0, 0, 0], [0, 0, 0]]\n",
        "    player = 1  # Player 1 starts\n",
        "    winner = 0  # No winner initially\n",
        "\n",
        "    while winner == 0 and not check_draw(board):\n",
        "        display_board(board)\n",
        "\n",
        "        if player == 1:\n",
        "            move = int(input(\"Enter your move (1-9): \"))\n",
        "            row, col = divmod(move - 1, 3)\n",
        "        else:\n",
        "            print(\"Computer's move:\")\n",
        "            # Implement your computer move logic here\n",
        "            # For simplicity, let's choose the first empty cell\n",
        "            for i in range(3):\n",
        "                for j in range(3):\n",
        "                    if board[i][j] == 0:\n",
        "                        row, col = i, j\n",
        "                        break\n",
        "\n",
        "        if board[row][col] == 0:\n",
        "            board[row][col] = player\n",
        "            winner = check_winner(board)\n",
        "            player = -player  # Switch player\n",
        "        else:\n",
        "            print(\"Invalid move. Try again.\")\n",
        "\n",
        "    display_board(board)\n",
        "\n",
        "    if winner == 0:\n",
        "        print(\"It's a draw!\")\n",
        "    else:\n",
        "        print(f\"Player {winner} wins!\")\n",
        "\n",
        "# Play the Tic Tac Toe game\n",
        "play_tic_tac_toe()\n"
      ],
      "metadata": {
        "colab": {
          "base_uri": "https://localhost:8080/"
        },
        "id": "-zvUYyHONHUo",
        "outputId": "e33ef72a-fe98-41e5-cba4-daa7ba8497cd"
      },
      "execution_count": 3,
      "outputs": [
        {
          "output_type": "stream",
          "name": "stdout",
          "text": [
            "\n",
            "---------------\n",
            "|   ||   ||   |\n",
            "---------------\n",
            "|   ||   ||   |\n",
            "---------------\n",
            "|   ||   ||   |\n",
            "---------------\n",
            "Enter your move (1-9): 1\n",
            "\n",
            "---------------\n",
            "| X ||   ||   |\n",
            "---------------\n",
            "|   ||   ||   |\n",
            "---------------\n",
            "|   ||   ||   |\n",
            "---------------\n",
            "Computer's move:\n",
            "\n",
            "---------------\n",
            "| X ||   ||   |\n",
            "---------------\n",
            "|   ||   ||   |\n",
            "---------------\n",
            "| O ||   ||   |\n",
            "---------------\n",
            "Enter your move (1-9): 9\n",
            "\n",
            "---------------\n",
            "| X ||   ||   |\n",
            "---------------\n",
            "|   ||   ||   |\n",
            "---------------\n",
            "| O ||   || X |\n",
            "---------------\n",
            "Computer's move:\n",
            "\n",
            "---------------\n",
            "| X ||   ||   |\n",
            "---------------\n",
            "|   ||   ||   |\n",
            "---------------\n",
            "| O || O || X |\n",
            "---------------\n",
            "Enter your move (1-9): 5\n",
            "\n",
            "---------------\n",
            "| X ||   ||   |\n",
            "---------------\n",
            "|   || X ||   |\n",
            "---------------\n",
            "| O || O || X |\n",
            "---------------\n",
            "Player 1 wins!\n"
          ]
        }
      ]
    },
    {
      "cell_type": "markdown",
      "source": [
        "**Method 2**"
      ],
      "metadata": {
        "id": "TZsQkMD-OFzc"
      }
    },
    {
      "cell_type": "code",
      "source": [
        "from math import inf as infinity\n",
        "from random import choice\n",
        "import platform\n",
        "import time\n",
        "from os import system"
      ],
      "metadata": {
        "id": "eX-eAbZ2KZdT"
      },
      "execution_count": 6,
      "outputs": []
    },
    {
      "cell_type": "code",
      "source": [
        "HUMAN = -1\n",
        "COMP = +1\n",
        "board = [\n",
        "    [0, 0, 0],\n",
        "    [0, 0, 0],\n",
        "    [0, 0, 0],\n",
        "]"
      ],
      "metadata": {
        "id": "Tmi28CEnLT5y"
      },
      "execution_count": 7,
      "outputs": []
    },
    {
      "cell_type": "code",
      "source": [
        "def evaluate(state):\n",
        "    if wins(state, COMP):\n",
        "        score = +1\n",
        "    elif wins(state, HUMAN):\n",
        "        score = -1\n",
        "    else:\n",
        "        score = 0\n",
        "    return score"
      ],
      "metadata": {
        "id": "v-FXxqB7LWmj"
      },
      "execution_count": 8,
      "outputs": []
    },
    {
      "cell_type": "code",
      "source": [
        "def wins(state, player):\n",
        "    win_state = [\n",
        "        [state[0][0], state[0][1], state[0][2]],\n",
        "        [state[1][0], state[1][1], state[1][2]],\n",
        "        [state[2][0], state[2][1], state[2][2]],\n",
        "        [state[0][0], state[1][0], state[2][0]],\n",
        "        [state[0][1], state[1][1], state[2][1]],\n",
        "        [state[0][2], state[1][2], state[2][2]],\n",
        "        [state[0][0], state[1][1], state[2][2]],\n",
        "        [state[2][0], state[1][1], state[0][2]],\n",
        "    ]\n",
        "    if [player, player, player] in win_state:\n",
        "        return True\n",
        "    else:\n",
        "        return False"
      ],
      "metadata": {
        "id": "g33bxpdlLZOH"
      },
      "execution_count": 9,
      "outputs": []
    },
    {
      "cell_type": "code",
      "source": [
        "def game_over(state):\n",
        "    return wins(state, HUMAN) or wins(state, COMP)"
      ],
      "metadata": {
        "id": "kW_FSbmZLcP-"
      },
      "execution_count": 10,
      "outputs": []
    },
    {
      "cell_type": "code",
      "source": [
        "def empty_cells(state):\n",
        "    cells = []\n",
        "    for x, row in enumerate(state):\n",
        "        for y, cell in enumerate(row):\n",
        "            if cell == 0:\n",
        "                cells.append([x, y])\n",
        "    return cells"
      ],
      "metadata": {
        "id": "CrYHOHxtLfUq"
      },
      "execution_count": 11,
      "outputs": []
    },
    {
      "cell_type": "code",
      "source": [
        "def valid_move(x, y):\n",
        "    if [x, y] in empty_cells(board):\n",
        "        return True\n",
        "    else:\n",
        "        return False"
      ],
      "metadata": {
        "id": "ABGz07UiLhbe"
      },
      "execution_count": 12,
      "outputs": []
    },
    {
      "cell_type": "code",
      "source": [
        "def set_move(x, y, player):\n",
        "    if valid_move(x, y):\n",
        "        board[x][y] = player\n",
        "        return True\n",
        "    else:\n",
        "        return False"
      ],
      "metadata": {
        "id": "v59X182_Ljh-"
      },
      "execution_count": 13,
      "outputs": []
    },
    {
      "cell_type": "code",
      "source": [
        "def minimax(state, depth, player):\n",
        "    if player == COMP:\n",
        "        best = [-1, -1, -infinity]\n",
        "    else:\n",
        "        best = [-1, -1, +infinity]\n",
        "    if depth == 0 or game_over(state):\n",
        "        score = evaluate(state)\n",
        "        return [-1, -1, score]\n",
        "    for cell in empty_cells(state):\n",
        "        x, y = cell[0], cell[1]\n",
        "        state[x][y] = player\n",
        "        score = minimax(state, depth - 1, -player)\n",
        "        state[x][y] = 0\n",
        "        score[0], score[1] = x, y\n",
        "        if player == COMP:\n",
        "            if score[2] > best[2]:\n",
        "                best = score  # max value\n",
        "        else:\n",
        "            if score[2] < best[2]:\n",
        "                best = score  # min value\n",
        "    return best"
      ],
      "metadata": {
        "id": "NyjwVNx2Ll5i"
      },
      "execution_count": 14,
      "outputs": []
    },
    {
      "cell_type": "code",
      "source": [
        "def clean():\n",
        "    \"\"\"\n",
        "    Clears the console\n",
        "    \"\"\"\n",
        "    os_name = platform.system().lower()\n",
        "    if 'windows' in os_name:\n",
        "        system('cls')\n",
        "    else:\n",
        "        system('clear')"
      ],
      "metadata": {
        "id": "GNcnCEykLokS"
      },
      "execution_count": 15,
      "outputs": []
    },
    {
      "cell_type": "code",
      "source": [
        "def render(state, c_choice, h_choice):\n",
        "    \"\"\"\n",
        "    Print the board on console\n",
        "    :param state: current state of the board\n",
        "    \"\"\"\n",
        "    chars = {\n",
        "        -1: h_choice,\n",
        "        +1: c_choice,\n",
        "        0: ' '\n",
        "    }\n",
        "    str_line = '---------------'\n",
        "\n",
        "    print('\\n' + str_line)\n",
        "    for row in state:\n",
        "        for cell in row:\n",
        "            symbol = chars[cell]\n",
        "            print(f'| {symbol} |', end='')\n",
        "        print('\\n' + str_line)"
      ],
      "metadata": {
        "id": "GReTmo1BLrOO"
      },
      "execution_count": 16,
      "outputs": []
    },
    {
      "cell_type": "code",
      "source": [
        "def ai_turn(c_choice, h_choice):\n",
        "    \"\"\"\n",
        "    It calls the minimax function if the depth < 9,\n",
        "    else it choices a random coordinate.\n",
        "    :param c_choice: computer's choice X or O\n",
        "    :param h_choice: human's choice X or O\n",
        "    :return:\n",
        "    \"\"\"\n",
        "    depth = len(empty_cells(board))\n",
        "    if depth == 0 or game_over(board):\n",
        "        return\n",
        "    clean()\n",
        "    print(f'Computer turn [{c_choice}]')\n",
        "    render(board, c_choice, h_choice)\n",
        "\n",
        "    if depth == 9:\n",
        "        x = choice([0, 1, 2])\n",
        "        y = choice([0, 1, 2])\n",
        "    else:\n",
        "        move = minimax(board, depth, COMP)\n",
        "        x, y = move[0], move[1]\n",
        "\n",
        "    set_move(x, y, COMP)\n",
        "    time.sleep(1)"
      ],
      "metadata": {
        "id": "TC35B6MxLuBq"
      },
      "execution_count": 17,
      "outputs": []
    },
    {
      "cell_type": "code",
      "source": [
        "def human_turn(c_choice, h_choice):\n",
        "    depth = len(empty_cells(board))\n",
        "    if depth == 0 or game_over(board):\n",
        "        return\n",
        "    # Dictionary of valid moves\n",
        "    move = -1\n",
        "    moves = {\n",
        "        1: [0, 0], 2: [0, 1], 3: [0, 2],\n",
        "        4: [1, 0], 5: [1, 1], 6: [1, 2],\n",
        "        7: [2, 0], 8: [2, 1], 9: [2, 2],\n",
        "    }\n",
        "    clean()\n",
        "    print(f'Human turn [{h_choice}]')\n",
        "    render(board, c_choice, h_choice)\n",
        "    while move < 1 or move > 9:\n",
        "        try:\n",
        "            move = int(input('Use numpad (1..9): '))\n",
        "            coord = moves[move]\n",
        "            can_move = set_move(coord[0], coord[1], HUMAN)\n",
        "\n",
        "            if not can_move:\n",
        "                print('Bad move')\n",
        "                move = -1\n",
        "        except (EOFError, KeyboardInterrupt):\n",
        "            print('Bye')\n",
        "            exit()\n",
        "        except (KeyError, ValueError):\n",
        "            print('Bad choice')"
      ],
      "metadata": {
        "id": "aIuxFzVXLwZq"
      },
      "execution_count": 18,
      "outputs": []
    },
    {
      "cell_type": "code",
      "source": [
        "def main():\n",
        "    \"\"\"\n",
        "    Main function that calls all functions\n",
        "    \"\"\"\n",
        "    clean()\n",
        "    h_choice = ''  # X or O\n",
        "    c_choice = ''  # X or O\n",
        "    first = ''  # if human is the first\n",
        "    # Human chooses X or O to play\n",
        "    while h_choice != 'O' and h_choice != 'X':\n",
        "        try:\n",
        "            print('')\n",
        "            h_choice = input('Choose X or O\\nChosen: ').upper()\n",
        "        except (EOFError, KeyboardInterrupt):\n",
        "            print('Bye')\n",
        "            exit()\n",
        "        except (KeyError, ValueError):\n",
        "            print('Bad choice')\n",
        "    # Setting computer's choice\n",
        "    if h_choice == 'X':\n",
        "        c_choice = 'O'\n",
        "    else:\n",
        "        c_choice = 'X'\n",
        "    # Human may starts first\n",
        "    clean()\n",
        "    while first != 'Y' and first != 'N':\n",
        "        try:\n",
        "            first = input('First to start?[y/n]: ').upper()\n",
        "        except (EOFError, KeyboardInterrupt):\n",
        "            print('Bye')\n",
        "            exit()\n",
        "        except (KeyError, ValueError):\n",
        "            print('Bad choice')\n",
        "\n",
        "    # Main loop of this game\n",
        "    while len(empty_cells(board)) > 0 and not game_over(board):\n",
        "        if first == 'N':\n",
        "            ai_turn(c_choice, h_choice)\n",
        "            first = ''\n",
        "\n",
        "        human_turn(c_choice, h_choice)\n",
        "        ai_turn(c_choice, h_choice)\n",
        "    # Game over message\n",
        "    if wins(board, HUMAN):\n",
        "        clean()\n",
        "        print(f'Human turn [{h_choice}]')\n",
        "        render(board, c_choice, h_choice)\n",
        "        print('YOU WIN!')\n",
        "    elif wins(board, COMP):\n",
        "        clean()\n",
        "        print(f'Computer turn [{c_choice}]')\n",
        "        render(board, c_choice, h_choice)\n",
        "        print('YOU LOSE!')\n",
        "    else:\n",
        "        clean()\n",
        "        render(board, c_choice, h_choice)\n",
        "        print('DRAW!')\n",
        "    exit()\n",
        "if __name__ == '__main__':\n",
        "    main()"
      ],
      "metadata": {
        "colab": {
          "base_uri": "https://localhost:8080/"
        },
        "id": "YaLn9jYHL0M3",
        "outputId": "afccb22b-0daa-4cea-83fa-89a9904efff7"
      },
      "execution_count": 19,
      "outputs": [
        {
          "output_type": "stream",
          "name": "stdout",
          "text": [
            "\n",
            "Choose X or O\n",
            "Chosen: X\n",
            "First to start?[y/n]: y\n",
            "Human turn [X]\n",
            "\n",
            "---------------\n",
            "|   ||   ||   |\n",
            "---------------\n",
            "|   ||   ||   |\n",
            "---------------\n",
            "|   ||   ||   |\n",
            "---------------\n",
            "Use numpad (1..9): 1\n",
            "Computer turn [O]\n",
            "\n",
            "---------------\n",
            "| X ||   ||   |\n",
            "---------------\n",
            "|   ||   ||   |\n",
            "---------------\n",
            "|   ||   ||   |\n",
            "---------------\n",
            "Human turn [X]\n",
            "\n",
            "---------------\n",
            "| X ||   ||   |\n",
            "---------------\n",
            "|   || O ||   |\n",
            "---------------\n",
            "|   ||   ||   |\n",
            "---------------\n",
            "Use numpad (1..9): 9\n",
            "Computer turn [O]\n",
            "\n",
            "---------------\n",
            "| X ||   ||   |\n",
            "---------------\n",
            "|   || O ||   |\n",
            "---------------\n",
            "|   ||   || X |\n",
            "---------------\n",
            "Human turn [X]\n",
            "\n",
            "---------------\n",
            "| X || O ||   |\n",
            "---------------\n",
            "|   || O ||   |\n",
            "---------------\n",
            "|   ||   || X |\n",
            "---------------\n",
            "Use numpad (1..9): 8\n",
            "Computer turn [O]\n",
            "\n",
            "---------------\n",
            "| X || O ||   |\n",
            "---------------\n",
            "|   || O ||   |\n",
            "---------------\n",
            "|   || X || X |\n",
            "---------------\n",
            "Human turn [X]\n",
            "\n",
            "---------------\n",
            "| X || O ||   |\n",
            "---------------\n",
            "|   || O ||   |\n",
            "---------------\n",
            "| O || X || X |\n",
            "---------------\n",
            "Use numpad (1..9): 3\n",
            "Computer turn [O]\n",
            "\n",
            "---------------\n",
            "| X || O || X |\n",
            "---------------\n",
            "|   || O ||   |\n",
            "---------------\n",
            "| O || X || X |\n",
            "---------------\n",
            "Human turn [X]\n",
            "\n",
            "---------------\n",
            "| X || O || X |\n",
            "---------------\n",
            "|   || O || O |\n",
            "---------------\n",
            "| O || X || X |\n",
            "---------------\n",
            "Use numpad (1..9): 4\n",
            "\n",
            "---------------\n",
            "| X || O || X |\n",
            "---------------\n",
            "| X || O || O |\n",
            "---------------\n",
            "| O || X || X |\n",
            "---------------\n",
            "DRAW!\n"
          ]
        }
      ]
    }
  ]
}