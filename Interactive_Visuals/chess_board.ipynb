{
  "nbformat": 4,
  "nbformat_minor": 0,
  "metadata": {
    "colab": {
      "provenance": [],
      "gpuType": "T4"
    },
    "kernelspec": {
      "name": "python3",
      "display_name": "Python 3"
    },
    "language_info": {
      "name": "python"
    },
    "accelerator": "GPU"
  },
  "cells": [
    {
      "cell_type": "code",
      "source": [
        "import plotly.graph_objects as go"
      ],
      "metadata": {
        "id": "SL6wyI4AzODR"
      },
      "execution_count": 2,
      "outputs": []
    },
    {
      "cell_type": "code",
      "source": [
        "def generate_chessboard():\n",
        "    # Define chessboard colors\n",
        "    colors = [['#ffffff', '#c2ccd2'] * 4, ['#c2ccd2', '#ffffff'] * 4] * 4\n",
        "\n",
        "    # Create a chessboard figure\n",
        "    fig = go.Figure()\n",
        "\n",
        "    for i in range(8):\n",
        "        for j in range(8):\n",
        "            square_label = f\"{chr(ord('A') + j)}{8 - i}\"\n",
        "            square_color = colors[i][j]\n",
        "\n",
        "            # Create a rectangle for each square\n",
        "            fig.add_trace(go.Scatter(\n",
        "                x=[j, j + 1, j + 1, j, j],\n",
        "                y=[i, i, i + 1, i + 1, i],\n",
        "                fill='toself',\n",
        "                fillcolor=square_color,\n",
        "                mode='lines',\n",
        "                hoverinfo='text',\n",
        "                text=square_label,\n",
        "                showlegend=False\n",
        "            ))\n",
        "\n",
        "    # Set axis properties\n",
        "    fig.update_xaxes(\n",
        "        showgrid=False,\n",
        "        zeroline=False,\n",
        "        showline=False,\n",
        "        ticks='',\n",
        "        showticklabels=False\n",
        "    )\n",
        "    fig.update_yaxes(\n",
        "        showgrid=False,\n",
        "        zeroline=False,\n",
        "        showline=False,\n",
        "        ticks='',\n",
        "        showticklabels=False\n",
        "    )\n",
        "\n",
        "    # Set layout properties\n",
        "    fig.update_layout(\n",
        "        width=600,\n",
        "        height=600,\n",
        "        margin=dict(t=0, b=0, l=0, r=0),\n",
        "        showlegend=False\n",
        "    )\n",
        "\n",
        "    return fig"
      ],
      "metadata": {
        "id": "mER0Ely9xBkp"
      },
      "execution_count": 3,
      "outputs": []
    },
    {
      "cell_type": "code",
      "source": [
        "# Display the interactive chessboard\n",
        "chessboard = generate_chessboard()\n",
        "chessboard.show()"
      ],
      "metadata": {
        "colab": {
          "base_uri": "https://localhost:8080/",
          "height": 617
        },
        "id": "O1RgqK9RzUsC",
        "outputId": "db5a7d3a-f2c0-496c-b3d3-c6824423a7be"
      },
      "execution_count": 4,
      "outputs": [
        {
          "output_type": "display_data",
          "data": {
            "text/html": [
              "<html>\n",
              "<head><meta charset=\"utf-8\" /></head>\n",
              "<body>\n",
              "    <div>            <script src=\"https://cdnjs.cloudflare.com/ajax/libs/mathjax/2.7.5/MathJax.js?config=TeX-AMS-MML_SVG\"></script><script type=\"text/javascript\">if (window.MathJax && window.MathJax.Hub && window.MathJax.Hub.Config) {window.MathJax.Hub.Config({SVG: {font: \"STIX-Web\"}});}</script>                <script type=\"text/javascript\">window.PlotlyConfig = {MathJaxConfig: 'local'};</script>\n",
              "        <script charset=\"utf-8\" src=\"https://cdn.plot.ly/plotly-2.24.1.min.js\"></script>                <div id=\"688f7f74-5deb-4c6b-ae31-53d8bd0a9755\" class=\"plotly-graph-div\" style=\"height:600px; width:600px;\"></div>            <script type=\"text/javascript\">                                    window.PLOTLYENV=window.PLOTLYENV || {};                                    if (document.getElementById(\"688f7f74-5deb-4c6b-ae31-53d8bd0a9755\")) {                    Plotly.newPlot(                        \"688f7f74-5deb-4c6b-ae31-53d8bd0a9755\",                        [{\"fill\":\"toself\",\"fillcolor\":\"#ffffff\",\"hoverinfo\":\"text\",\"mode\":\"lines\",\"showlegend\":false,\"text\":\"A8\",\"x\":[0,1,1,0,0],\"y\":[0,0,1,1,0],\"type\":\"scatter\"},{\"fill\":\"toself\",\"fillcolor\":\"#c2ccd2\",\"hoverinfo\":\"text\",\"mode\":\"lines\",\"showlegend\":false,\"text\":\"B8\",\"x\":[1,2,2,1,1],\"y\":[0,0,1,1,0],\"type\":\"scatter\"},{\"fill\":\"toself\",\"fillcolor\":\"#ffffff\",\"hoverinfo\":\"text\",\"mode\":\"lines\",\"showlegend\":false,\"text\":\"C8\",\"x\":[2,3,3,2,2],\"y\":[0,0,1,1,0],\"type\":\"scatter\"},{\"fill\":\"toself\",\"fillcolor\":\"#c2ccd2\",\"hoverinfo\":\"text\",\"mode\":\"lines\",\"showlegend\":false,\"text\":\"D8\",\"x\":[3,4,4,3,3],\"y\":[0,0,1,1,0],\"type\":\"scatter\"},{\"fill\":\"toself\",\"fillcolor\":\"#ffffff\",\"hoverinfo\":\"text\",\"mode\":\"lines\",\"showlegend\":false,\"text\":\"E8\",\"x\":[4,5,5,4,4],\"y\":[0,0,1,1,0],\"type\":\"scatter\"},{\"fill\":\"toself\",\"fillcolor\":\"#c2ccd2\",\"hoverinfo\":\"text\",\"mode\":\"lines\",\"showlegend\":false,\"text\":\"F8\",\"x\":[5,6,6,5,5],\"y\":[0,0,1,1,0],\"type\":\"scatter\"},{\"fill\":\"toself\",\"fillcolor\":\"#ffffff\",\"hoverinfo\":\"text\",\"mode\":\"lines\",\"showlegend\":false,\"text\":\"G8\",\"x\":[6,7,7,6,6],\"y\":[0,0,1,1,0],\"type\":\"scatter\"},{\"fill\":\"toself\",\"fillcolor\":\"#c2ccd2\",\"hoverinfo\":\"text\",\"mode\":\"lines\",\"showlegend\":false,\"text\":\"H8\",\"x\":[7,8,8,7,7],\"y\":[0,0,1,1,0],\"type\":\"scatter\"},{\"fill\":\"toself\",\"fillcolor\":\"#c2ccd2\",\"hoverinfo\":\"text\",\"mode\":\"lines\",\"showlegend\":false,\"text\":\"A7\",\"x\":[0,1,1,0,0],\"y\":[1,1,2,2,1],\"type\":\"scatter\"},{\"fill\":\"toself\",\"fillcolor\":\"#ffffff\",\"hoverinfo\":\"text\",\"mode\":\"lines\",\"showlegend\":false,\"text\":\"B7\",\"x\":[1,2,2,1,1],\"y\":[1,1,2,2,1],\"type\":\"scatter\"},{\"fill\":\"toself\",\"fillcolor\":\"#c2ccd2\",\"hoverinfo\":\"text\",\"mode\":\"lines\",\"showlegend\":false,\"text\":\"C7\",\"x\":[2,3,3,2,2],\"y\":[1,1,2,2,1],\"type\":\"scatter\"},{\"fill\":\"toself\",\"fillcolor\":\"#ffffff\",\"hoverinfo\":\"text\",\"mode\":\"lines\",\"showlegend\":false,\"text\":\"D7\",\"x\":[3,4,4,3,3],\"y\":[1,1,2,2,1],\"type\":\"scatter\"},{\"fill\":\"toself\",\"fillcolor\":\"#c2ccd2\",\"hoverinfo\":\"text\",\"mode\":\"lines\",\"showlegend\":false,\"text\":\"E7\",\"x\":[4,5,5,4,4],\"y\":[1,1,2,2,1],\"type\":\"scatter\"},{\"fill\":\"toself\",\"fillcolor\":\"#ffffff\",\"hoverinfo\":\"text\",\"mode\":\"lines\",\"showlegend\":false,\"text\":\"F7\",\"x\":[5,6,6,5,5],\"y\":[1,1,2,2,1],\"type\":\"scatter\"},{\"fill\":\"toself\",\"fillcolor\":\"#c2ccd2\",\"hoverinfo\":\"text\",\"mode\":\"lines\",\"showlegend\":false,\"text\":\"G7\",\"x\":[6,7,7,6,6],\"y\":[1,1,2,2,1],\"type\":\"scatter\"},{\"fill\":\"toself\",\"fillcolor\":\"#ffffff\",\"hoverinfo\":\"text\",\"mode\":\"lines\",\"showlegend\":false,\"text\":\"H7\",\"x\":[7,8,8,7,7],\"y\":[1,1,2,2,1],\"type\":\"scatter\"},{\"fill\":\"toself\",\"fillcolor\":\"#ffffff\",\"hoverinfo\":\"text\",\"mode\":\"lines\",\"showlegend\":false,\"text\":\"A6\",\"x\":[0,1,1,0,0],\"y\":[2,2,3,3,2],\"type\":\"scatter\"},{\"fill\":\"toself\",\"fillcolor\":\"#c2ccd2\",\"hoverinfo\":\"text\",\"mode\":\"lines\",\"showlegend\":false,\"text\":\"B6\",\"x\":[1,2,2,1,1],\"y\":[2,2,3,3,2],\"type\":\"scatter\"},{\"fill\":\"toself\",\"fillcolor\":\"#ffffff\",\"hoverinfo\":\"text\",\"mode\":\"lines\",\"showlegend\":false,\"text\":\"C6\",\"x\":[2,3,3,2,2],\"y\":[2,2,3,3,2],\"type\":\"scatter\"},{\"fill\":\"toself\",\"fillcolor\":\"#c2ccd2\",\"hoverinfo\":\"text\",\"mode\":\"lines\",\"showlegend\":false,\"text\":\"D6\",\"x\":[3,4,4,3,3],\"y\":[2,2,3,3,2],\"type\":\"scatter\"},{\"fill\":\"toself\",\"fillcolor\":\"#ffffff\",\"hoverinfo\":\"text\",\"mode\":\"lines\",\"showlegend\":false,\"text\":\"E6\",\"x\":[4,5,5,4,4],\"y\":[2,2,3,3,2],\"type\":\"scatter\"},{\"fill\":\"toself\",\"fillcolor\":\"#c2ccd2\",\"hoverinfo\":\"text\",\"mode\":\"lines\",\"showlegend\":false,\"text\":\"F6\",\"x\":[5,6,6,5,5],\"y\":[2,2,3,3,2],\"type\":\"scatter\"},{\"fill\":\"toself\",\"fillcolor\":\"#ffffff\",\"hoverinfo\":\"text\",\"mode\":\"lines\",\"showlegend\":false,\"text\":\"G6\",\"x\":[6,7,7,6,6],\"y\":[2,2,3,3,2],\"type\":\"scatter\"},{\"fill\":\"toself\",\"fillcolor\":\"#c2ccd2\",\"hoverinfo\":\"text\",\"mode\":\"lines\",\"showlegend\":false,\"text\":\"H6\",\"x\":[7,8,8,7,7],\"y\":[2,2,3,3,2],\"type\":\"scatter\"},{\"fill\":\"toself\",\"fillcolor\":\"#c2ccd2\",\"hoverinfo\":\"text\",\"mode\":\"lines\",\"showlegend\":false,\"text\":\"A5\",\"x\":[0,1,1,0,0],\"y\":[3,3,4,4,3],\"type\":\"scatter\"},{\"fill\":\"toself\",\"fillcolor\":\"#ffffff\",\"hoverinfo\":\"text\",\"mode\":\"lines\",\"showlegend\":false,\"text\":\"B5\",\"x\":[1,2,2,1,1],\"y\":[3,3,4,4,3],\"type\":\"scatter\"},{\"fill\":\"toself\",\"fillcolor\":\"#c2ccd2\",\"hoverinfo\":\"text\",\"mode\":\"lines\",\"showlegend\":false,\"text\":\"C5\",\"x\":[2,3,3,2,2],\"y\":[3,3,4,4,3],\"type\":\"scatter\"},{\"fill\":\"toself\",\"fillcolor\":\"#ffffff\",\"hoverinfo\":\"text\",\"mode\":\"lines\",\"showlegend\":false,\"text\":\"D5\",\"x\":[3,4,4,3,3],\"y\":[3,3,4,4,3],\"type\":\"scatter\"},{\"fill\":\"toself\",\"fillcolor\":\"#c2ccd2\",\"hoverinfo\":\"text\",\"mode\":\"lines\",\"showlegend\":false,\"text\":\"E5\",\"x\":[4,5,5,4,4],\"y\":[3,3,4,4,3],\"type\":\"scatter\"},{\"fill\":\"toself\",\"fillcolor\":\"#ffffff\",\"hoverinfo\":\"text\",\"mode\":\"lines\",\"showlegend\":false,\"text\":\"F5\",\"x\":[5,6,6,5,5],\"y\":[3,3,4,4,3],\"type\":\"scatter\"},{\"fill\":\"toself\",\"fillcolor\":\"#c2ccd2\",\"hoverinfo\":\"text\",\"mode\":\"lines\",\"showlegend\":false,\"text\":\"G5\",\"x\":[6,7,7,6,6],\"y\":[3,3,4,4,3],\"type\":\"scatter\"},{\"fill\":\"toself\",\"fillcolor\":\"#ffffff\",\"hoverinfo\":\"text\",\"mode\":\"lines\",\"showlegend\":false,\"text\":\"H5\",\"x\":[7,8,8,7,7],\"y\":[3,3,4,4,3],\"type\":\"scatter\"},{\"fill\":\"toself\",\"fillcolor\":\"#ffffff\",\"hoverinfo\":\"text\",\"mode\":\"lines\",\"showlegend\":false,\"text\":\"A4\",\"x\":[0,1,1,0,0],\"y\":[4,4,5,5,4],\"type\":\"scatter\"},{\"fill\":\"toself\",\"fillcolor\":\"#c2ccd2\",\"hoverinfo\":\"text\",\"mode\":\"lines\",\"showlegend\":false,\"text\":\"B4\",\"x\":[1,2,2,1,1],\"y\":[4,4,5,5,4],\"type\":\"scatter\"},{\"fill\":\"toself\",\"fillcolor\":\"#ffffff\",\"hoverinfo\":\"text\",\"mode\":\"lines\",\"showlegend\":false,\"text\":\"C4\",\"x\":[2,3,3,2,2],\"y\":[4,4,5,5,4],\"type\":\"scatter\"},{\"fill\":\"toself\",\"fillcolor\":\"#c2ccd2\",\"hoverinfo\":\"text\",\"mode\":\"lines\",\"showlegend\":false,\"text\":\"D4\",\"x\":[3,4,4,3,3],\"y\":[4,4,5,5,4],\"type\":\"scatter\"},{\"fill\":\"toself\",\"fillcolor\":\"#ffffff\",\"hoverinfo\":\"text\",\"mode\":\"lines\",\"showlegend\":false,\"text\":\"E4\",\"x\":[4,5,5,4,4],\"y\":[4,4,5,5,4],\"type\":\"scatter\"},{\"fill\":\"toself\",\"fillcolor\":\"#c2ccd2\",\"hoverinfo\":\"text\",\"mode\":\"lines\",\"showlegend\":false,\"text\":\"F4\",\"x\":[5,6,6,5,5],\"y\":[4,4,5,5,4],\"type\":\"scatter\"},{\"fill\":\"toself\",\"fillcolor\":\"#ffffff\",\"hoverinfo\":\"text\",\"mode\":\"lines\",\"showlegend\":false,\"text\":\"G4\",\"x\":[6,7,7,6,6],\"y\":[4,4,5,5,4],\"type\":\"scatter\"},{\"fill\":\"toself\",\"fillcolor\":\"#c2ccd2\",\"hoverinfo\":\"text\",\"mode\":\"lines\",\"showlegend\":false,\"text\":\"H4\",\"x\":[7,8,8,7,7],\"y\":[4,4,5,5,4],\"type\":\"scatter\"},{\"fill\":\"toself\",\"fillcolor\":\"#c2ccd2\",\"hoverinfo\":\"text\",\"mode\":\"lines\",\"showlegend\":false,\"text\":\"A3\",\"x\":[0,1,1,0,0],\"y\":[5,5,6,6,5],\"type\":\"scatter\"},{\"fill\":\"toself\",\"fillcolor\":\"#ffffff\",\"hoverinfo\":\"text\",\"mode\":\"lines\",\"showlegend\":false,\"text\":\"B3\",\"x\":[1,2,2,1,1],\"y\":[5,5,6,6,5],\"type\":\"scatter\"},{\"fill\":\"toself\",\"fillcolor\":\"#c2ccd2\",\"hoverinfo\":\"text\",\"mode\":\"lines\",\"showlegend\":false,\"text\":\"C3\",\"x\":[2,3,3,2,2],\"y\":[5,5,6,6,5],\"type\":\"scatter\"},{\"fill\":\"toself\",\"fillcolor\":\"#ffffff\",\"hoverinfo\":\"text\",\"mode\":\"lines\",\"showlegend\":false,\"text\":\"D3\",\"x\":[3,4,4,3,3],\"y\":[5,5,6,6,5],\"type\":\"scatter\"},{\"fill\":\"toself\",\"fillcolor\":\"#c2ccd2\",\"hoverinfo\":\"text\",\"mode\":\"lines\",\"showlegend\":false,\"text\":\"E3\",\"x\":[4,5,5,4,4],\"y\":[5,5,6,6,5],\"type\":\"scatter\"},{\"fill\":\"toself\",\"fillcolor\":\"#ffffff\",\"hoverinfo\":\"text\",\"mode\":\"lines\",\"showlegend\":false,\"text\":\"F3\",\"x\":[5,6,6,5,5],\"y\":[5,5,6,6,5],\"type\":\"scatter\"},{\"fill\":\"toself\",\"fillcolor\":\"#c2ccd2\",\"hoverinfo\":\"text\",\"mode\":\"lines\",\"showlegend\":false,\"text\":\"G3\",\"x\":[6,7,7,6,6],\"y\":[5,5,6,6,5],\"type\":\"scatter\"},{\"fill\":\"toself\",\"fillcolor\":\"#ffffff\",\"hoverinfo\":\"text\",\"mode\":\"lines\",\"showlegend\":false,\"text\":\"H3\",\"x\":[7,8,8,7,7],\"y\":[5,5,6,6,5],\"type\":\"scatter\"},{\"fill\":\"toself\",\"fillcolor\":\"#ffffff\",\"hoverinfo\":\"text\",\"mode\":\"lines\",\"showlegend\":false,\"text\":\"A2\",\"x\":[0,1,1,0,0],\"y\":[6,6,7,7,6],\"type\":\"scatter\"},{\"fill\":\"toself\",\"fillcolor\":\"#c2ccd2\",\"hoverinfo\":\"text\",\"mode\":\"lines\",\"showlegend\":false,\"text\":\"B2\",\"x\":[1,2,2,1,1],\"y\":[6,6,7,7,6],\"type\":\"scatter\"},{\"fill\":\"toself\",\"fillcolor\":\"#ffffff\",\"hoverinfo\":\"text\",\"mode\":\"lines\",\"showlegend\":false,\"text\":\"C2\",\"x\":[2,3,3,2,2],\"y\":[6,6,7,7,6],\"type\":\"scatter\"},{\"fill\":\"toself\",\"fillcolor\":\"#c2ccd2\",\"hoverinfo\":\"text\",\"mode\":\"lines\",\"showlegend\":false,\"text\":\"D2\",\"x\":[3,4,4,3,3],\"y\":[6,6,7,7,6],\"type\":\"scatter\"},{\"fill\":\"toself\",\"fillcolor\":\"#ffffff\",\"hoverinfo\":\"text\",\"mode\":\"lines\",\"showlegend\":false,\"text\":\"E2\",\"x\":[4,5,5,4,4],\"y\":[6,6,7,7,6],\"type\":\"scatter\"},{\"fill\":\"toself\",\"fillcolor\":\"#c2ccd2\",\"hoverinfo\":\"text\",\"mode\":\"lines\",\"showlegend\":false,\"text\":\"F2\",\"x\":[5,6,6,5,5],\"y\":[6,6,7,7,6],\"type\":\"scatter\"},{\"fill\":\"toself\",\"fillcolor\":\"#ffffff\",\"hoverinfo\":\"text\",\"mode\":\"lines\",\"showlegend\":false,\"text\":\"G2\",\"x\":[6,7,7,6,6],\"y\":[6,6,7,7,6],\"type\":\"scatter\"},{\"fill\":\"toself\",\"fillcolor\":\"#c2ccd2\",\"hoverinfo\":\"text\",\"mode\":\"lines\",\"showlegend\":false,\"text\":\"H2\",\"x\":[7,8,8,7,7],\"y\":[6,6,7,7,6],\"type\":\"scatter\"},{\"fill\":\"toself\",\"fillcolor\":\"#c2ccd2\",\"hoverinfo\":\"text\",\"mode\":\"lines\",\"showlegend\":false,\"text\":\"A1\",\"x\":[0,1,1,0,0],\"y\":[7,7,8,8,7],\"type\":\"scatter\"},{\"fill\":\"toself\",\"fillcolor\":\"#ffffff\",\"hoverinfo\":\"text\",\"mode\":\"lines\",\"showlegend\":false,\"text\":\"B1\",\"x\":[1,2,2,1,1],\"y\":[7,7,8,8,7],\"type\":\"scatter\"},{\"fill\":\"toself\",\"fillcolor\":\"#c2ccd2\",\"hoverinfo\":\"text\",\"mode\":\"lines\",\"showlegend\":false,\"text\":\"C1\",\"x\":[2,3,3,2,2],\"y\":[7,7,8,8,7],\"type\":\"scatter\"},{\"fill\":\"toself\",\"fillcolor\":\"#ffffff\",\"hoverinfo\":\"text\",\"mode\":\"lines\",\"showlegend\":false,\"text\":\"D1\",\"x\":[3,4,4,3,3],\"y\":[7,7,8,8,7],\"type\":\"scatter\"},{\"fill\":\"toself\",\"fillcolor\":\"#c2ccd2\",\"hoverinfo\":\"text\",\"mode\":\"lines\",\"showlegend\":false,\"text\":\"E1\",\"x\":[4,5,5,4,4],\"y\":[7,7,8,8,7],\"type\":\"scatter\"},{\"fill\":\"toself\",\"fillcolor\":\"#ffffff\",\"hoverinfo\":\"text\",\"mode\":\"lines\",\"showlegend\":false,\"text\":\"F1\",\"x\":[5,6,6,5,5],\"y\":[7,7,8,8,7],\"type\":\"scatter\"},{\"fill\":\"toself\",\"fillcolor\":\"#c2ccd2\",\"hoverinfo\":\"text\",\"mode\":\"lines\",\"showlegend\":false,\"text\":\"G1\",\"x\":[6,7,7,6,6],\"y\":[7,7,8,8,7],\"type\":\"scatter\"},{\"fill\":\"toself\",\"fillcolor\":\"#ffffff\",\"hoverinfo\":\"text\",\"mode\":\"lines\",\"showlegend\":false,\"text\":\"H1\",\"x\":[7,8,8,7,7],\"y\":[7,7,8,8,7],\"type\":\"scatter\"}],                        {\"template\":{\"data\":{\"histogram2dcontour\":[{\"type\":\"histogram2dcontour\",\"colorbar\":{\"outlinewidth\":0,\"ticks\":\"\"},\"colorscale\":[[0.0,\"#0d0887\"],[0.1111111111111111,\"#46039f\"],[0.2222222222222222,\"#7201a8\"],[0.3333333333333333,\"#9c179e\"],[0.4444444444444444,\"#bd3786\"],[0.5555555555555556,\"#d8576b\"],[0.6666666666666666,\"#ed7953\"],[0.7777777777777778,\"#fb9f3a\"],[0.8888888888888888,\"#fdca26\"],[1.0,\"#f0f921\"]]}],\"choropleth\":[{\"type\":\"choropleth\",\"colorbar\":{\"outlinewidth\":0,\"ticks\":\"\"}}],\"histogram2d\":[{\"type\":\"histogram2d\",\"colorbar\":{\"outlinewidth\":0,\"ticks\":\"\"},\"colorscale\":[[0.0,\"#0d0887\"],[0.1111111111111111,\"#46039f\"],[0.2222222222222222,\"#7201a8\"],[0.3333333333333333,\"#9c179e\"],[0.4444444444444444,\"#bd3786\"],[0.5555555555555556,\"#d8576b\"],[0.6666666666666666,\"#ed7953\"],[0.7777777777777778,\"#fb9f3a\"],[0.8888888888888888,\"#fdca26\"],[1.0,\"#f0f921\"]]}],\"heatmap\":[{\"type\":\"heatmap\",\"colorbar\":{\"outlinewidth\":0,\"ticks\":\"\"},\"colorscale\":[[0.0,\"#0d0887\"],[0.1111111111111111,\"#46039f\"],[0.2222222222222222,\"#7201a8\"],[0.3333333333333333,\"#9c179e\"],[0.4444444444444444,\"#bd3786\"],[0.5555555555555556,\"#d8576b\"],[0.6666666666666666,\"#ed7953\"],[0.7777777777777778,\"#fb9f3a\"],[0.8888888888888888,\"#fdca26\"],[1.0,\"#f0f921\"]]}],\"heatmapgl\":[{\"type\":\"heatmapgl\",\"colorbar\":{\"outlinewidth\":0,\"ticks\":\"\"},\"colorscale\":[[0.0,\"#0d0887\"],[0.1111111111111111,\"#46039f\"],[0.2222222222222222,\"#7201a8\"],[0.3333333333333333,\"#9c179e\"],[0.4444444444444444,\"#bd3786\"],[0.5555555555555556,\"#d8576b\"],[0.6666666666666666,\"#ed7953\"],[0.7777777777777778,\"#fb9f3a\"],[0.8888888888888888,\"#fdca26\"],[1.0,\"#f0f921\"]]}],\"contourcarpet\":[{\"type\":\"contourcarpet\",\"colorbar\":{\"outlinewidth\":0,\"ticks\":\"\"}}],\"contour\":[{\"type\":\"contour\",\"colorbar\":{\"outlinewidth\":0,\"ticks\":\"\"},\"colorscale\":[[0.0,\"#0d0887\"],[0.1111111111111111,\"#46039f\"],[0.2222222222222222,\"#7201a8\"],[0.3333333333333333,\"#9c179e\"],[0.4444444444444444,\"#bd3786\"],[0.5555555555555556,\"#d8576b\"],[0.6666666666666666,\"#ed7953\"],[0.7777777777777778,\"#fb9f3a\"],[0.8888888888888888,\"#fdca26\"],[1.0,\"#f0f921\"]]}],\"surface\":[{\"type\":\"surface\",\"colorbar\":{\"outlinewidth\":0,\"ticks\":\"\"},\"colorscale\":[[0.0,\"#0d0887\"],[0.1111111111111111,\"#46039f\"],[0.2222222222222222,\"#7201a8\"],[0.3333333333333333,\"#9c179e\"],[0.4444444444444444,\"#bd3786\"],[0.5555555555555556,\"#d8576b\"],[0.6666666666666666,\"#ed7953\"],[0.7777777777777778,\"#fb9f3a\"],[0.8888888888888888,\"#fdca26\"],[1.0,\"#f0f921\"]]}],\"mesh3d\":[{\"type\":\"mesh3d\",\"colorbar\":{\"outlinewidth\":0,\"ticks\":\"\"}}],\"scatter\":[{\"fillpattern\":{\"fillmode\":\"overlay\",\"size\":10,\"solidity\":0.2},\"type\":\"scatter\"}],\"parcoords\":[{\"type\":\"parcoords\",\"line\":{\"colorbar\":{\"outlinewidth\":0,\"ticks\":\"\"}}}],\"scatterpolargl\":[{\"type\":\"scatterpolargl\",\"marker\":{\"colorbar\":{\"outlinewidth\":0,\"ticks\":\"\"}}}],\"bar\":[{\"error_x\":{\"color\":\"#2a3f5f\"},\"error_y\":{\"color\":\"#2a3f5f\"},\"marker\":{\"line\":{\"color\":\"#E5ECF6\",\"width\":0.5},\"pattern\":{\"fillmode\":\"overlay\",\"size\":10,\"solidity\":0.2}},\"type\":\"bar\"}],\"scattergeo\":[{\"type\":\"scattergeo\",\"marker\":{\"colorbar\":{\"outlinewidth\":0,\"ticks\":\"\"}}}],\"scatterpolar\":[{\"type\":\"scatterpolar\",\"marker\":{\"colorbar\":{\"outlinewidth\":0,\"ticks\":\"\"}}}],\"histogram\":[{\"marker\":{\"pattern\":{\"fillmode\":\"overlay\",\"size\":10,\"solidity\":0.2}},\"type\":\"histogram\"}],\"scattergl\":[{\"type\":\"scattergl\",\"marker\":{\"colorbar\":{\"outlinewidth\":0,\"ticks\":\"\"}}}],\"scatter3d\":[{\"type\":\"scatter3d\",\"line\":{\"colorbar\":{\"outlinewidth\":0,\"ticks\":\"\"}},\"marker\":{\"colorbar\":{\"outlinewidth\":0,\"ticks\":\"\"}}}],\"scattermapbox\":[{\"type\":\"scattermapbox\",\"marker\":{\"colorbar\":{\"outlinewidth\":0,\"ticks\":\"\"}}}],\"scatterternary\":[{\"type\":\"scatterternary\",\"marker\":{\"colorbar\":{\"outlinewidth\":0,\"ticks\":\"\"}}}],\"scattercarpet\":[{\"type\":\"scattercarpet\",\"marker\":{\"colorbar\":{\"outlinewidth\":0,\"ticks\":\"\"}}}],\"carpet\":[{\"aaxis\":{\"endlinecolor\":\"#2a3f5f\",\"gridcolor\":\"white\",\"linecolor\":\"white\",\"minorgridcolor\":\"white\",\"startlinecolor\":\"#2a3f5f\"},\"baxis\":{\"endlinecolor\":\"#2a3f5f\",\"gridcolor\":\"white\",\"linecolor\":\"white\",\"minorgridcolor\":\"white\",\"startlinecolor\":\"#2a3f5f\"},\"type\":\"carpet\"}],\"table\":[{\"cells\":{\"fill\":{\"color\":\"#EBF0F8\"},\"line\":{\"color\":\"white\"}},\"header\":{\"fill\":{\"color\":\"#C8D4E3\"},\"line\":{\"color\":\"white\"}},\"type\":\"table\"}],\"barpolar\":[{\"marker\":{\"line\":{\"color\":\"#E5ECF6\",\"width\":0.5},\"pattern\":{\"fillmode\":\"overlay\",\"size\":10,\"solidity\":0.2}},\"type\":\"barpolar\"}],\"pie\":[{\"automargin\":true,\"type\":\"pie\"}]},\"layout\":{\"autotypenumbers\":\"strict\",\"colorway\":[\"#636efa\",\"#EF553B\",\"#00cc96\",\"#ab63fa\",\"#FFA15A\",\"#19d3f3\",\"#FF6692\",\"#B6E880\",\"#FF97FF\",\"#FECB52\"],\"font\":{\"color\":\"#2a3f5f\"},\"hovermode\":\"closest\",\"hoverlabel\":{\"align\":\"left\"},\"paper_bgcolor\":\"white\",\"plot_bgcolor\":\"#E5ECF6\",\"polar\":{\"bgcolor\":\"#E5ECF6\",\"angularaxis\":{\"gridcolor\":\"white\",\"linecolor\":\"white\",\"ticks\":\"\"},\"radialaxis\":{\"gridcolor\":\"white\",\"linecolor\":\"white\",\"ticks\":\"\"}},\"ternary\":{\"bgcolor\":\"#E5ECF6\",\"aaxis\":{\"gridcolor\":\"white\",\"linecolor\":\"white\",\"ticks\":\"\"},\"baxis\":{\"gridcolor\":\"white\",\"linecolor\":\"white\",\"ticks\":\"\"},\"caxis\":{\"gridcolor\":\"white\",\"linecolor\":\"white\",\"ticks\":\"\"}},\"coloraxis\":{\"colorbar\":{\"outlinewidth\":0,\"ticks\":\"\"}},\"colorscale\":{\"sequential\":[[0.0,\"#0d0887\"],[0.1111111111111111,\"#46039f\"],[0.2222222222222222,\"#7201a8\"],[0.3333333333333333,\"#9c179e\"],[0.4444444444444444,\"#bd3786\"],[0.5555555555555556,\"#d8576b\"],[0.6666666666666666,\"#ed7953\"],[0.7777777777777778,\"#fb9f3a\"],[0.8888888888888888,\"#fdca26\"],[1.0,\"#f0f921\"]],\"sequentialminus\":[[0.0,\"#0d0887\"],[0.1111111111111111,\"#46039f\"],[0.2222222222222222,\"#7201a8\"],[0.3333333333333333,\"#9c179e\"],[0.4444444444444444,\"#bd3786\"],[0.5555555555555556,\"#d8576b\"],[0.6666666666666666,\"#ed7953\"],[0.7777777777777778,\"#fb9f3a\"],[0.8888888888888888,\"#fdca26\"],[1.0,\"#f0f921\"]],\"diverging\":[[0,\"#8e0152\"],[0.1,\"#c51b7d\"],[0.2,\"#de77ae\"],[0.3,\"#f1b6da\"],[0.4,\"#fde0ef\"],[0.5,\"#f7f7f7\"],[0.6,\"#e6f5d0\"],[0.7,\"#b8e186\"],[0.8,\"#7fbc41\"],[0.9,\"#4d9221\"],[1,\"#276419\"]]},\"xaxis\":{\"gridcolor\":\"white\",\"linecolor\":\"white\",\"ticks\":\"\",\"title\":{\"standoff\":15},\"zerolinecolor\":\"white\",\"automargin\":true,\"zerolinewidth\":2},\"yaxis\":{\"gridcolor\":\"white\",\"linecolor\":\"white\",\"ticks\":\"\",\"title\":{\"standoff\":15},\"zerolinecolor\":\"white\",\"automargin\":true,\"zerolinewidth\":2},\"scene\":{\"xaxis\":{\"backgroundcolor\":\"#E5ECF6\",\"gridcolor\":\"white\",\"linecolor\":\"white\",\"showbackground\":true,\"ticks\":\"\",\"zerolinecolor\":\"white\",\"gridwidth\":2},\"yaxis\":{\"backgroundcolor\":\"#E5ECF6\",\"gridcolor\":\"white\",\"linecolor\":\"white\",\"showbackground\":true,\"ticks\":\"\",\"zerolinecolor\":\"white\",\"gridwidth\":2},\"zaxis\":{\"backgroundcolor\":\"#E5ECF6\",\"gridcolor\":\"white\",\"linecolor\":\"white\",\"showbackground\":true,\"ticks\":\"\",\"zerolinecolor\":\"white\",\"gridwidth\":2}},\"shapedefaults\":{\"line\":{\"color\":\"#2a3f5f\"}},\"annotationdefaults\":{\"arrowcolor\":\"#2a3f5f\",\"arrowhead\":0,\"arrowwidth\":1},\"geo\":{\"bgcolor\":\"white\",\"landcolor\":\"#E5ECF6\",\"subunitcolor\":\"white\",\"showland\":true,\"showlakes\":true,\"lakecolor\":\"white\"},\"title\":{\"x\":0.05},\"mapbox\":{\"style\":\"light\"}}},\"xaxis\":{\"showgrid\":false,\"zeroline\":false,\"showline\":false,\"ticks\":\"\",\"showticklabels\":false},\"yaxis\":{\"showgrid\":false,\"zeroline\":false,\"showline\":false,\"ticks\":\"\",\"showticklabels\":false},\"margin\":{\"t\":0,\"b\":0,\"l\":0,\"r\":0},\"width\":600,\"height\":600,\"showlegend\":false},                        {\"responsive\": true}                    ).then(function(){\n",
              "                            \n",
              "var gd = document.getElementById('688f7f74-5deb-4c6b-ae31-53d8bd0a9755');\n",
              "var x = new MutationObserver(function (mutations, observer) {{\n",
              "        var display = window.getComputedStyle(gd).display;\n",
              "        if (!display || display === 'none') {{\n",
              "            console.log([gd, 'removed!']);\n",
              "            Plotly.purge(gd);\n",
              "            observer.disconnect();\n",
              "        }}\n",
              "}});\n",
              "\n",
              "// Listen for the removal of the full notebook cells\n",
              "var notebookContainer = gd.closest('#notebook-container');\n",
              "if (notebookContainer) {{\n",
              "    x.observe(notebookContainer, {childList: true});\n",
              "}}\n",
              "\n",
              "// Listen for the clearing of the current output cell\n",
              "var outputEl = gd.closest('.output');\n",
              "if (outputEl) {{\n",
              "    x.observe(outputEl, {childList: true});\n",
              "}}\n",
              "\n",
              "                        })                };                            </script>        </div>\n",
              "</body>\n",
              "</html>"
            ]
          },
          "metadata": {}
        }
      ]
    }
  ]
}