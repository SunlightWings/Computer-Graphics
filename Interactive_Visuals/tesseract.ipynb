{
  "nbformat": 4,
  "nbformat_minor": 0,
  "metadata": {
    "colab": {
      "provenance": [],
      "gpuType": "T4"
    },
    "kernelspec": {
      "name": "python3",
      "display_name": "Python 3"
    },
    "language_info": {
      "name": "python"
    },
    "accelerator": "GPU"
  },
  "cells": [
    {
      "cell_type": "code",
      "source": [
        "import plotly.graph_objects as go"
      ],
      "metadata": {
        "id": "pbdkpfIiIMY4"
      },
      "execution_count": 7,
      "outputs": []
    },
    {
      "cell_type": "code",
      "source": [
        "# Define vertices of a 4D tesseract\n",
        "vertices = [\n",
        "    (1, -1, -1, -1),\n",
        "    (-1, -1, -1, -1),\n",
        "    (-1, 1, -1, -1),\n",
        "    (1, 1, -1, -1),\n",
        "    (1, -1, 1, -1),\n",
        "    (-1, -1, 1, -1),\n",
        "    (-1, 1, 1, -1),\n",
        "    (1, 1, 1, -1),\n",
        "    (1, -1, -1, 1),\n",
        "    (-1, -1, -1, 1),\n",
        "    (-1, 1, -1, 1),\n",
        "    (1, 1, -1, 1),\n",
        "    (1, -1, 1, 1),\n",
        "    (-1, -1, 1, 1),\n",
        "    (-1, 1, 1, 1),\n",
        "    (1, 1, 1, 1),\n",
        "]"
      ],
      "metadata": {
        "id": "Ooj3bs1HISMZ"
      },
      "execution_count": 8,
      "outputs": []
    },
    {
      "cell_type": "code",
      "source": [
        "\n",
        "\n",
        "# Define the edges connecting the vertices\n",
        "edges = [\n",
        "    (0, 1), (1, 2), (2, 3), (3, 0),\n",
        "    (4, 5), (5, 6), (6, 7), (7, 4),\n",
        "    (0, 4), (1, 5), (2, 6), (3, 7),\n",
        "    (8, 9), (9, 10), (10, 11), (11, 8),\n",
        "    (12, 13), (13, 14), (14, 15), (15, 12),\n",
        "    (8, 12), (9, 13), (10, 14), (11, 15),\n",
        "    (0, 8), (1, 9), (2, 10), (3, 11),\n",
        "    (4, 12), (5, 13), (6, 14), (7, 15),\n",
        "]"
      ],
      "metadata": {
        "id": "A-3uXBFWIUBL"
      },
      "execution_count": 10,
      "outputs": []
    },
    {
      "cell_type": "code",
      "source": [
        "# Extract x, y, z coordinates for plotting\n",
        "x, y, z, _ = zip(*vertices)"
      ],
      "metadata": {
        "id": "myq-XIiGIWZf"
      },
      "execution_count": 11,
      "outputs": []
    },
    {
      "cell_type": "code",
      "source": [
        "# Create a 3D scatter plot\n",
        "fig = go.Figure()\n",
        "\n",
        "# Scatter plot for vertices\n",
        "fig.add_trace(go.Scatter3d(x=x, y=y, z=z, mode='markers', marker=dict(size=5)))\n",
        "\n",
        "# Line plot for edges\n",
        "for edge in edges:\n",
        "    x_edge = [x[edge[0]], x[edge[1]]]\n",
        "    y_edge = [y[edge[0]], y[edge[1]]]\n",
        "    z_edge = [z[edge[0]], z[edge[1]]]\n",
        "    fig.add_trace(go.Scatter3d(x=x_edge, y=y_edge, z=z_edge, mode='lines'))\n",
        "\n",
        "# Set layout and show plot\n",
        "fig.update_layout(scene=dict(aspectmode='cube'))\n",
        "fig.show()\n"
      ],
      "metadata": {
        "colab": {
          "base_uri": "https://localhost:8080/",
          "height": 542
        },
        "id": "P2fIPccJHTvp",
        "outputId": "b02aa1f2-410a-43ef-e553-e58df3c1d944"
      },
      "execution_count": 12,
      "outputs": [
        {
          "output_type": "display_data",
          "data": {
            "text/html": [
              "<html>\n",
              "<head><meta charset=\"utf-8\" /></head>\n",
              "<body>\n",
              "    <div>            <script src=\"https://cdnjs.cloudflare.com/ajax/libs/mathjax/2.7.5/MathJax.js?config=TeX-AMS-MML_SVG\"></script><script type=\"text/javascript\">if (window.MathJax && window.MathJax.Hub && window.MathJax.Hub.Config) {window.MathJax.Hub.Config({SVG: {font: \"STIX-Web\"}});}</script>                <script type=\"text/javascript\">window.PlotlyConfig = {MathJaxConfig: 'local'};</script>\n",
              "        <script charset=\"utf-8\" src=\"https://cdn.plot.ly/plotly-2.24.1.min.js\"></script>                <div id=\"2540e7b4-e4c3-4724-83aa-db55b1fc5188\" class=\"plotly-graph-div\" style=\"height:525px; width:100%;\"></div>            <script type=\"text/javascript\">                                    window.PLOTLYENV=window.PLOTLYENV || {};                                    if (document.getElementById(\"2540e7b4-e4c3-4724-83aa-db55b1fc5188\")) {                    Plotly.newPlot(                        \"2540e7b4-e4c3-4724-83aa-db55b1fc5188\",                        [{\"marker\":{\"size\":5},\"mode\":\"markers\",\"x\":[1,-1,-1,1,1,-1,-1,1,1,-1,-1,1,1,-1,-1,1],\"y\":[-1,-1,1,1,-1,-1,1,1,-1,-1,1,1,-1,-1,1,1],\"z\":[-1,-1,-1,-1,1,1,1,1,-1,-1,-1,-1,1,1,1,1],\"type\":\"scatter3d\"},{\"mode\":\"lines\",\"x\":[1,-1],\"y\":[-1,-1],\"z\":[-1,-1],\"type\":\"scatter3d\"},{\"mode\":\"lines\",\"x\":[-1,-1],\"y\":[-1,1],\"z\":[-1,-1],\"type\":\"scatter3d\"},{\"mode\":\"lines\",\"x\":[-1,1],\"y\":[1,1],\"z\":[-1,-1],\"type\":\"scatter3d\"},{\"mode\":\"lines\",\"x\":[1,1],\"y\":[1,-1],\"z\":[-1,-1],\"type\":\"scatter3d\"},{\"mode\":\"lines\",\"x\":[1,-1],\"y\":[-1,-1],\"z\":[1,1],\"type\":\"scatter3d\"},{\"mode\":\"lines\",\"x\":[-1,-1],\"y\":[-1,1],\"z\":[1,1],\"type\":\"scatter3d\"},{\"mode\":\"lines\",\"x\":[-1,1],\"y\":[1,1],\"z\":[1,1],\"type\":\"scatter3d\"},{\"mode\":\"lines\",\"x\":[1,1],\"y\":[1,-1],\"z\":[1,1],\"type\":\"scatter3d\"},{\"mode\":\"lines\",\"x\":[1,1],\"y\":[-1,-1],\"z\":[-1,1],\"type\":\"scatter3d\"},{\"mode\":\"lines\",\"x\":[-1,-1],\"y\":[-1,-1],\"z\":[-1,1],\"type\":\"scatter3d\"},{\"mode\":\"lines\",\"x\":[-1,-1],\"y\":[1,1],\"z\":[-1,1],\"type\":\"scatter3d\"},{\"mode\":\"lines\",\"x\":[1,1],\"y\":[1,1],\"z\":[-1,1],\"type\":\"scatter3d\"},{\"mode\":\"lines\",\"x\":[1,-1],\"y\":[-1,-1],\"z\":[-1,-1],\"type\":\"scatter3d\"},{\"mode\":\"lines\",\"x\":[-1,-1],\"y\":[-1,1],\"z\":[-1,-1],\"type\":\"scatter3d\"},{\"mode\":\"lines\",\"x\":[-1,1],\"y\":[1,1],\"z\":[-1,-1],\"type\":\"scatter3d\"},{\"mode\":\"lines\",\"x\":[1,1],\"y\":[1,-1],\"z\":[-1,-1],\"type\":\"scatter3d\"},{\"mode\":\"lines\",\"x\":[1,-1],\"y\":[-1,-1],\"z\":[1,1],\"type\":\"scatter3d\"},{\"mode\":\"lines\",\"x\":[-1,-1],\"y\":[-1,1],\"z\":[1,1],\"type\":\"scatter3d\"},{\"mode\":\"lines\",\"x\":[-1,1],\"y\":[1,1],\"z\":[1,1],\"type\":\"scatter3d\"},{\"mode\":\"lines\",\"x\":[1,1],\"y\":[1,-1],\"z\":[1,1],\"type\":\"scatter3d\"},{\"mode\":\"lines\",\"x\":[1,1],\"y\":[-1,-1],\"z\":[-1,1],\"type\":\"scatter3d\"},{\"mode\":\"lines\",\"x\":[-1,-1],\"y\":[-1,-1],\"z\":[-1,1],\"type\":\"scatter3d\"},{\"mode\":\"lines\",\"x\":[-1,-1],\"y\":[1,1],\"z\":[-1,1],\"type\":\"scatter3d\"},{\"mode\":\"lines\",\"x\":[1,1],\"y\":[1,1],\"z\":[-1,1],\"type\":\"scatter3d\"},{\"mode\":\"lines\",\"x\":[1,1],\"y\":[-1,-1],\"z\":[-1,-1],\"type\":\"scatter3d\"},{\"mode\":\"lines\",\"x\":[-1,-1],\"y\":[-1,-1],\"z\":[-1,-1],\"type\":\"scatter3d\"},{\"mode\":\"lines\",\"x\":[-1,-1],\"y\":[1,1],\"z\":[-1,-1],\"type\":\"scatter3d\"},{\"mode\":\"lines\",\"x\":[1,1],\"y\":[1,1],\"z\":[-1,-1],\"type\":\"scatter3d\"},{\"mode\":\"lines\",\"x\":[1,1],\"y\":[-1,-1],\"z\":[1,1],\"type\":\"scatter3d\"},{\"mode\":\"lines\",\"x\":[-1,-1],\"y\":[-1,-1],\"z\":[1,1],\"type\":\"scatter3d\"},{\"mode\":\"lines\",\"x\":[-1,-1],\"y\":[1,1],\"z\":[1,1],\"type\":\"scatter3d\"},{\"mode\":\"lines\",\"x\":[1,1],\"y\":[1,1],\"z\":[1,1],\"type\":\"scatter3d\"}],                        {\"template\":{\"data\":{\"histogram2dcontour\":[{\"type\":\"histogram2dcontour\",\"colorbar\":{\"outlinewidth\":0,\"ticks\":\"\"},\"colorscale\":[[0.0,\"#0d0887\"],[0.1111111111111111,\"#46039f\"],[0.2222222222222222,\"#7201a8\"],[0.3333333333333333,\"#9c179e\"],[0.4444444444444444,\"#bd3786\"],[0.5555555555555556,\"#d8576b\"],[0.6666666666666666,\"#ed7953\"],[0.7777777777777778,\"#fb9f3a\"],[0.8888888888888888,\"#fdca26\"],[1.0,\"#f0f921\"]]}],\"choropleth\":[{\"type\":\"choropleth\",\"colorbar\":{\"outlinewidth\":0,\"ticks\":\"\"}}],\"histogram2d\":[{\"type\":\"histogram2d\",\"colorbar\":{\"outlinewidth\":0,\"ticks\":\"\"},\"colorscale\":[[0.0,\"#0d0887\"],[0.1111111111111111,\"#46039f\"],[0.2222222222222222,\"#7201a8\"],[0.3333333333333333,\"#9c179e\"],[0.4444444444444444,\"#bd3786\"],[0.5555555555555556,\"#d8576b\"],[0.6666666666666666,\"#ed7953\"],[0.7777777777777778,\"#fb9f3a\"],[0.8888888888888888,\"#fdca26\"],[1.0,\"#f0f921\"]]}],\"heatmap\":[{\"type\":\"heatmap\",\"colorbar\":{\"outlinewidth\":0,\"ticks\":\"\"},\"colorscale\":[[0.0,\"#0d0887\"],[0.1111111111111111,\"#46039f\"],[0.2222222222222222,\"#7201a8\"],[0.3333333333333333,\"#9c179e\"],[0.4444444444444444,\"#bd3786\"],[0.5555555555555556,\"#d8576b\"],[0.6666666666666666,\"#ed7953\"],[0.7777777777777778,\"#fb9f3a\"],[0.8888888888888888,\"#fdca26\"],[1.0,\"#f0f921\"]]}],\"heatmapgl\":[{\"type\":\"heatmapgl\",\"colorbar\":{\"outlinewidth\":0,\"ticks\":\"\"},\"colorscale\":[[0.0,\"#0d0887\"],[0.1111111111111111,\"#46039f\"],[0.2222222222222222,\"#7201a8\"],[0.3333333333333333,\"#9c179e\"],[0.4444444444444444,\"#bd3786\"],[0.5555555555555556,\"#d8576b\"],[0.6666666666666666,\"#ed7953\"],[0.7777777777777778,\"#fb9f3a\"],[0.8888888888888888,\"#fdca26\"],[1.0,\"#f0f921\"]]}],\"contourcarpet\":[{\"type\":\"contourcarpet\",\"colorbar\":{\"outlinewidth\":0,\"ticks\":\"\"}}],\"contour\":[{\"type\":\"contour\",\"colorbar\":{\"outlinewidth\":0,\"ticks\":\"\"},\"colorscale\":[[0.0,\"#0d0887\"],[0.1111111111111111,\"#46039f\"],[0.2222222222222222,\"#7201a8\"],[0.3333333333333333,\"#9c179e\"],[0.4444444444444444,\"#bd3786\"],[0.5555555555555556,\"#d8576b\"],[0.6666666666666666,\"#ed7953\"],[0.7777777777777778,\"#fb9f3a\"],[0.8888888888888888,\"#fdca26\"],[1.0,\"#f0f921\"]]}],\"surface\":[{\"type\":\"surface\",\"colorbar\":{\"outlinewidth\":0,\"ticks\":\"\"},\"colorscale\":[[0.0,\"#0d0887\"],[0.1111111111111111,\"#46039f\"],[0.2222222222222222,\"#7201a8\"],[0.3333333333333333,\"#9c179e\"],[0.4444444444444444,\"#bd3786\"],[0.5555555555555556,\"#d8576b\"],[0.6666666666666666,\"#ed7953\"],[0.7777777777777778,\"#fb9f3a\"],[0.8888888888888888,\"#fdca26\"],[1.0,\"#f0f921\"]]}],\"mesh3d\":[{\"type\":\"mesh3d\",\"colorbar\":{\"outlinewidth\":0,\"ticks\":\"\"}}],\"scatter\":[{\"fillpattern\":{\"fillmode\":\"overlay\",\"size\":10,\"solidity\":0.2},\"type\":\"scatter\"}],\"parcoords\":[{\"type\":\"parcoords\",\"line\":{\"colorbar\":{\"outlinewidth\":0,\"ticks\":\"\"}}}],\"scatterpolargl\":[{\"type\":\"scatterpolargl\",\"marker\":{\"colorbar\":{\"outlinewidth\":0,\"ticks\":\"\"}}}],\"bar\":[{\"error_x\":{\"color\":\"#2a3f5f\"},\"error_y\":{\"color\":\"#2a3f5f\"},\"marker\":{\"line\":{\"color\":\"#E5ECF6\",\"width\":0.5},\"pattern\":{\"fillmode\":\"overlay\",\"size\":10,\"solidity\":0.2}},\"type\":\"bar\"}],\"scattergeo\":[{\"type\":\"scattergeo\",\"marker\":{\"colorbar\":{\"outlinewidth\":0,\"ticks\":\"\"}}}],\"scatterpolar\":[{\"type\":\"scatterpolar\",\"marker\":{\"colorbar\":{\"outlinewidth\":0,\"ticks\":\"\"}}}],\"histogram\":[{\"marker\":{\"pattern\":{\"fillmode\":\"overlay\",\"size\":10,\"solidity\":0.2}},\"type\":\"histogram\"}],\"scattergl\":[{\"type\":\"scattergl\",\"marker\":{\"colorbar\":{\"outlinewidth\":0,\"ticks\":\"\"}}}],\"scatter3d\":[{\"type\":\"scatter3d\",\"line\":{\"colorbar\":{\"outlinewidth\":0,\"ticks\":\"\"}},\"marker\":{\"colorbar\":{\"outlinewidth\":0,\"ticks\":\"\"}}}],\"scattermapbox\":[{\"type\":\"scattermapbox\",\"marker\":{\"colorbar\":{\"outlinewidth\":0,\"ticks\":\"\"}}}],\"scatterternary\":[{\"type\":\"scatterternary\",\"marker\":{\"colorbar\":{\"outlinewidth\":0,\"ticks\":\"\"}}}],\"scattercarpet\":[{\"type\":\"scattercarpet\",\"marker\":{\"colorbar\":{\"outlinewidth\":0,\"ticks\":\"\"}}}],\"carpet\":[{\"aaxis\":{\"endlinecolor\":\"#2a3f5f\",\"gridcolor\":\"white\",\"linecolor\":\"white\",\"minorgridcolor\":\"white\",\"startlinecolor\":\"#2a3f5f\"},\"baxis\":{\"endlinecolor\":\"#2a3f5f\",\"gridcolor\":\"white\",\"linecolor\":\"white\",\"minorgridcolor\":\"white\",\"startlinecolor\":\"#2a3f5f\"},\"type\":\"carpet\"}],\"table\":[{\"cells\":{\"fill\":{\"color\":\"#EBF0F8\"},\"line\":{\"color\":\"white\"}},\"header\":{\"fill\":{\"color\":\"#C8D4E3\"},\"line\":{\"color\":\"white\"}},\"type\":\"table\"}],\"barpolar\":[{\"marker\":{\"line\":{\"color\":\"#E5ECF6\",\"width\":0.5},\"pattern\":{\"fillmode\":\"overlay\",\"size\":10,\"solidity\":0.2}},\"type\":\"barpolar\"}],\"pie\":[{\"automargin\":true,\"type\":\"pie\"}]},\"layout\":{\"autotypenumbers\":\"strict\",\"colorway\":[\"#636efa\",\"#EF553B\",\"#00cc96\",\"#ab63fa\",\"#FFA15A\",\"#19d3f3\",\"#FF6692\",\"#B6E880\",\"#FF97FF\",\"#FECB52\"],\"font\":{\"color\":\"#2a3f5f\"},\"hovermode\":\"closest\",\"hoverlabel\":{\"align\":\"left\"},\"paper_bgcolor\":\"white\",\"plot_bgcolor\":\"#E5ECF6\",\"polar\":{\"bgcolor\":\"#E5ECF6\",\"angularaxis\":{\"gridcolor\":\"white\",\"linecolor\":\"white\",\"ticks\":\"\"},\"radialaxis\":{\"gridcolor\":\"white\",\"linecolor\":\"white\",\"ticks\":\"\"}},\"ternary\":{\"bgcolor\":\"#E5ECF6\",\"aaxis\":{\"gridcolor\":\"white\",\"linecolor\":\"white\",\"ticks\":\"\"},\"baxis\":{\"gridcolor\":\"white\",\"linecolor\":\"white\",\"ticks\":\"\"},\"caxis\":{\"gridcolor\":\"white\",\"linecolor\":\"white\",\"ticks\":\"\"}},\"coloraxis\":{\"colorbar\":{\"outlinewidth\":0,\"ticks\":\"\"}},\"colorscale\":{\"sequential\":[[0.0,\"#0d0887\"],[0.1111111111111111,\"#46039f\"],[0.2222222222222222,\"#7201a8\"],[0.3333333333333333,\"#9c179e\"],[0.4444444444444444,\"#bd3786\"],[0.5555555555555556,\"#d8576b\"],[0.6666666666666666,\"#ed7953\"],[0.7777777777777778,\"#fb9f3a\"],[0.8888888888888888,\"#fdca26\"],[1.0,\"#f0f921\"]],\"sequentialminus\":[[0.0,\"#0d0887\"],[0.1111111111111111,\"#46039f\"],[0.2222222222222222,\"#7201a8\"],[0.3333333333333333,\"#9c179e\"],[0.4444444444444444,\"#bd3786\"],[0.5555555555555556,\"#d8576b\"],[0.6666666666666666,\"#ed7953\"],[0.7777777777777778,\"#fb9f3a\"],[0.8888888888888888,\"#fdca26\"],[1.0,\"#f0f921\"]],\"diverging\":[[0,\"#8e0152\"],[0.1,\"#c51b7d\"],[0.2,\"#de77ae\"],[0.3,\"#f1b6da\"],[0.4,\"#fde0ef\"],[0.5,\"#f7f7f7\"],[0.6,\"#e6f5d0\"],[0.7,\"#b8e186\"],[0.8,\"#7fbc41\"],[0.9,\"#4d9221\"],[1,\"#276419\"]]},\"xaxis\":{\"gridcolor\":\"white\",\"linecolor\":\"white\",\"ticks\":\"\",\"title\":{\"standoff\":15},\"zerolinecolor\":\"white\",\"automargin\":true,\"zerolinewidth\":2},\"yaxis\":{\"gridcolor\":\"white\",\"linecolor\":\"white\",\"ticks\":\"\",\"title\":{\"standoff\":15},\"zerolinecolor\":\"white\",\"automargin\":true,\"zerolinewidth\":2},\"scene\":{\"xaxis\":{\"backgroundcolor\":\"#E5ECF6\",\"gridcolor\":\"white\",\"linecolor\":\"white\",\"showbackground\":true,\"ticks\":\"\",\"zerolinecolor\":\"white\",\"gridwidth\":2},\"yaxis\":{\"backgroundcolor\":\"#E5ECF6\",\"gridcolor\":\"white\",\"linecolor\":\"white\",\"showbackground\":true,\"ticks\":\"\",\"zerolinecolor\":\"white\",\"gridwidth\":2},\"zaxis\":{\"backgroundcolor\":\"#E5ECF6\",\"gridcolor\":\"white\",\"linecolor\":\"white\",\"showbackground\":true,\"ticks\":\"\",\"zerolinecolor\":\"white\",\"gridwidth\":2}},\"shapedefaults\":{\"line\":{\"color\":\"#2a3f5f\"}},\"annotationdefaults\":{\"arrowcolor\":\"#2a3f5f\",\"arrowhead\":0,\"arrowwidth\":1},\"geo\":{\"bgcolor\":\"white\",\"landcolor\":\"#E5ECF6\",\"subunitcolor\":\"white\",\"showland\":true,\"showlakes\":true,\"lakecolor\":\"white\"},\"title\":{\"x\":0.05},\"mapbox\":{\"style\":\"light\"}}},\"scene\":{\"aspectmode\":\"cube\"}},                        {\"responsive\": true}                    ).then(function(){\n",
              "                            \n",
              "var gd = document.getElementById('2540e7b4-e4c3-4724-83aa-db55b1fc5188');\n",
              "var x = new MutationObserver(function (mutations, observer) {{\n",
              "        var display = window.getComputedStyle(gd).display;\n",
              "        if (!display || display === 'none') {{\n",
              "            console.log([gd, 'removed!']);\n",
              "            Plotly.purge(gd);\n",
              "            observer.disconnect();\n",
              "        }}\n",
              "}});\n",
              "\n",
              "// Listen for the removal of the full notebook cells\n",
              "var notebookContainer = gd.closest('#notebook-container');\n",
              "if (notebookContainer) {{\n",
              "    x.observe(notebookContainer, {childList: true});\n",
              "}}\n",
              "\n",
              "// Listen for the clearing of the current output cell\n",
              "var outputEl = gd.closest('.output');\n",
              "if (outputEl) {{\n",
              "    x.observe(outputEl, {childList: true});\n",
              "}}\n",
              "\n",
              "                        })                };                            </script>        </div>\n",
              "</body>\n",
              "</html>"
            ]
          },
          "metadata": {}
        }
      ]
    },
    {
      "cell_type": "code",
      "source": [],
      "metadata": {
        "id": "EMqcRPN0HUHy"
      },
      "execution_count": null,
      "outputs": []
    }
  ]
}