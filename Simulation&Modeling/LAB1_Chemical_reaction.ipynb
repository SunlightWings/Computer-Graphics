{
  "nbformat": 4,
  "nbformat_minor": 0,
  "metadata": {
    "colab": {
      "provenance": []
    },
    "kernelspec": {
      "name": "python3",
      "display_name": "Python 3"
    },
    "language_info": {
      "name": "python"
    },
    "widgets": {
      "application/vnd.jupyter.widget-state+json": {
        "afcde82c8bfa476794a80b16a46c46af": {
          "model_module": "@jupyter-widgets/controls",
          "model_name": "VBoxModel",
          "model_module_version": "1.5.0",
          "state": {
            "_dom_classes": [
              "widget-interact"
            ],
            "_model_module": "@jupyter-widgets/controls",
            "_model_module_version": "1.5.0",
            "_model_name": "VBoxModel",
            "_view_count": null,
            "_view_module": "@jupyter-widgets/controls",
            "_view_module_version": "1.5.0",
            "_view_name": "VBoxView",
            "box_style": "",
            "children": [
              "IPY_MODEL_fc9946f6f7014a4eb53436fdfcb50ba9",
              "IPY_MODEL_f1e9e7329bdd4a52bbdc68156a2389e3",
              "IPY_MODEL_9603af05ac484d16a90ef03f4dfd8886",
              "IPY_MODEL_151d2c518c5c48539fc73e9c85582315",
              "IPY_MODEL_2707fd1e09714f0aa7b0d53fbef40c7f",
              "IPY_MODEL_9c42b73e7913449e86b897d27a22d703",
              "IPY_MODEL_e9ec3fe609d8467cae567094ba415461"
            ],
            "layout": "IPY_MODEL_04181a5e8b1c4f4592bc328cceafb27c"
          }
        },
        "fc9946f6f7014a4eb53436fdfcb50ba9": {
          "model_module": "@jupyter-widgets/controls",
          "model_name": "FloatSliderModel",
          "model_module_version": "1.5.0",
          "state": {
            "_dom_classes": [],
            "_model_module": "@jupyter-widgets/controls",
            "_model_module_version": "1.5.0",
            "_model_name": "FloatSliderModel",
            "_view_count": null,
            "_view_module": "@jupyter-widgets/controls",
            "_view_module_version": "1.5.0",
            "_view_name": "FloatSliderView",
            "continuous_update": true,
            "description": "c1",
            "description_tooltip": null,
            "disabled": false,
            "layout": "IPY_MODEL_531801055fec4f2c980dd4d7caba5787",
            "max": 5,
            "min": 0,
            "orientation": "horizontal",
            "readout": true,
            "readout_format": ".2f",
            "step": 0.1,
            "style": "IPY_MODEL_33d75f9a19204a64ab78db1f9763c83f",
            "value": 1
          }
        },
        "f1e9e7329bdd4a52bbdc68156a2389e3": {
          "model_module": "@jupyter-widgets/controls",
          "model_name": "FloatSliderModel",
          "model_module_version": "1.5.0",
          "state": {
            "_dom_classes": [],
            "_model_module": "@jupyter-widgets/controls",
            "_model_module_version": "1.5.0",
            "_model_name": "FloatSliderModel",
            "_view_count": null,
            "_view_module": "@jupyter-widgets/controls",
            "_view_module_version": "1.5.0",
            "_view_name": "FloatSliderView",
            "continuous_update": true,
            "description": "c2",
            "description_tooltip": null,
            "disabled": false,
            "layout": "IPY_MODEL_312a5d56c73242b09c1c7ea8b883850c",
            "max": 5,
            "min": 0,
            "orientation": "horizontal",
            "readout": true,
            "readout_format": ".2f",
            "step": 0.1,
            "style": "IPY_MODEL_6e6e6fad04b144618539d597b6a89bab",
            "value": 2
          }
        },
        "9603af05ac484d16a90ef03f4dfd8886": {
          "model_module": "@jupyter-widgets/controls",
          "model_name": "FloatSliderModel",
          "model_module_version": "1.5.0",
          "state": {
            "_dom_classes": [],
            "_model_module": "@jupyter-widgets/controls",
            "_model_module_version": "1.5.0",
            "_model_name": "FloatSliderModel",
            "_view_count": null,
            "_view_module": "@jupyter-widgets/controls",
            "_view_module_version": "1.5.0",
            "_view_name": "FloatSliderView",
            "continuous_update": true,
            "description": "c3",
            "description_tooltip": null,
            "disabled": false,
            "layout": "IPY_MODEL_32a6dda5ad4247cfbb61d962d9fb564e",
            "max": 5,
            "min": 0,
            "orientation": "horizontal",
            "readout": true,
            "readout_format": ".2f",
            "step": 0.1,
            "style": "IPY_MODEL_9bc762343e504552a12f0c4dce028c67",
            "value": 3
          }
        },
        "151d2c518c5c48539fc73e9c85582315": {
          "model_module": "@jupyter-widgets/controls",
          "model_name": "FloatSliderModel",
          "model_module_version": "1.5.0",
          "state": {
            "_dom_classes": [],
            "_model_module": "@jupyter-widgets/controls",
            "_model_module_version": "1.5.0",
            "_model_name": "FloatSliderModel",
            "_view_count": null,
            "_view_module": "@jupyter-widgets/controls",
            "_view_module_version": "1.5.0",
            "_view_name": "FloatSliderView",
            "continuous_update": true,
            "description": "k1",
            "description_tooltip": null,
            "disabled": false,
            "layout": "IPY_MODEL_3918f6a95b454a0e9621ec5ba5b42d36",
            "max": 1,
            "min": 0,
            "orientation": "horizontal",
            "readout": true,
            "readout_format": ".2f",
            "step": 0.01,
            "style": "IPY_MODEL_0a5a44c1b8e44ecfb38eaf6dd12090f1",
            "value": 0.07
          }
        },
        "2707fd1e09714f0aa7b0d53fbef40c7f": {
          "model_module": "@jupyter-widgets/controls",
          "model_name": "FloatSliderModel",
          "model_module_version": "1.5.0",
          "state": {
            "_dom_classes": [],
            "_model_module": "@jupyter-widgets/controls",
            "_model_module_version": "1.5.0",
            "_model_name": "FloatSliderModel",
            "_view_count": null,
            "_view_module": "@jupyter-widgets/controls",
            "_view_module_version": "1.5.0",
            "_view_name": "FloatSliderView",
            "continuous_update": true,
            "description": "k2",
            "description_tooltip": null,
            "disabled": false,
            "layout": "IPY_MODEL_3fe80ed53af44ce4a7c37355c300684c",
            "max": 1,
            "min": 0,
            "orientation": "horizontal",
            "readout": true,
            "readout_format": ".2f",
            "step": 0.01,
            "style": "IPY_MODEL_4a56eb43e74a41fe9e785a21af533b7a",
            "value": 0.01
          }
        },
        "9c42b73e7913449e86b897d27a22d703": {
          "model_module": "@jupyter-widgets/controls",
          "model_name": "FloatSliderModel",
          "model_module_version": "1.5.0",
          "state": {
            "_dom_classes": [],
            "_model_module": "@jupyter-widgets/controls",
            "_model_module_version": "1.5.0",
            "_model_name": "FloatSliderModel",
            "_view_count": null,
            "_view_module": "@jupyter-widgets/controls",
            "_view_module_version": "1.5.0",
            "_view_name": "FloatSliderView",
            "continuous_update": true,
            "description": "k3",
            "description_tooltip": null,
            "disabled": false,
            "layout": "IPY_MODEL_21b3617dd2b3423f97344602e52e340f",
            "max": 1,
            "min": 0,
            "orientation": "horizontal",
            "readout": true,
            "readout_format": ".2f",
            "step": 0.1,
            "style": "IPY_MODEL_167015d1edf045ac8cf159a89c001592",
            "value": 1
          }
        },
        "e9ec3fe609d8467cae567094ba415461": {
          "model_module": "@jupyter-widgets/output",
          "model_name": "OutputModel",
          "model_module_version": "1.0.0",
          "state": {
            "_dom_classes": [],
            "_model_module": "@jupyter-widgets/output",
            "_model_module_version": "1.0.0",
            "_model_name": "OutputModel",
            "_view_count": null,
            "_view_module": "@jupyter-widgets/output",
            "_view_module_version": "1.0.0",
            "_view_name": "OutputView",
            "layout": "IPY_MODEL_63bd919ee54c48d4853496795be0e677",
            "msg_id": "",
            "outputs": [
              {
                "output_type": "display_data",
                "data": {
                  "text/plain": "<Figure size 1000x600 with 1 Axes>",
                  "image/png": "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\n"
                },
                "metadata": {}
              }
            ]
          }
        },
        "04181a5e8b1c4f4592bc328cceafb27c": {
          "model_module": "@jupyter-widgets/base",
          "model_name": "LayoutModel",
          "model_module_version": "1.2.0",
          "state": {
            "_model_module": "@jupyter-widgets/base",
            "_model_module_version": "1.2.0",
            "_model_name": "LayoutModel",
            "_view_count": null,
            "_view_module": "@jupyter-widgets/base",
            "_view_module_version": "1.2.0",
            "_view_name": "LayoutView",
            "align_content": null,
            "align_items": null,
            "align_self": null,
            "border": null,
            "bottom": null,
            "display": null,
            "flex": null,
            "flex_flow": null,
            "grid_area": null,
            "grid_auto_columns": null,
            "grid_auto_flow": null,
            "grid_auto_rows": null,
            "grid_column": null,
            "grid_gap": null,
            "grid_row": null,
            "grid_template_areas": null,
            "grid_template_columns": null,
            "grid_template_rows": null,
            "height": null,
            "justify_content": null,
            "justify_items": null,
            "left": null,
            "margin": null,
            "max_height": null,
            "max_width": null,
            "min_height": null,
            "min_width": null,
            "object_fit": null,
            "object_position": null,
            "order": null,
            "overflow": null,
            "overflow_x": null,
            "overflow_y": null,
            "padding": null,
            "right": null,
            "top": null,
            "visibility": null,
            "width": null
          }
        },
        "531801055fec4f2c980dd4d7caba5787": {
          "model_module": "@jupyter-widgets/base",
          "model_name": "LayoutModel",
          "model_module_version": "1.2.0",
          "state": {
            "_model_module": "@jupyter-widgets/base",
            "_model_module_version": "1.2.0",
            "_model_name": "LayoutModel",
            "_view_count": null,
            "_view_module": "@jupyter-widgets/base",
            "_view_module_version": "1.2.0",
            "_view_name": "LayoutView",
            "align_content": null,
            "align_items": null,
            "align_self": null,
            "border": null,
            "bottom": null,
            "display": null,
            "flex": null,
            "flex_flow": null,
            "grid_area": null,
            "grid_auto_columns": null,
            "grid_auto_flow": null,
            "grid_auto_rows": null,
            "grid_column": null,
            "grid_gap": null,
            "grid_row": null,
            "grid_template_areas": null,
            "grid_template_columns": null,
            "grid_template_rows": null,
            "height": null,
            "justify_content": null,
            "justify_items": null,
            "left": null,
            "margin": null,
            "max_height": null,
            "max_width": null,
            "min_height": null,
            "min_width": null,
            "object_fit": null,
            "object_position": null,
            "order": null,
            "overflow": null,
            "overflow_x": null,
            "overflow_y": null,
            "padding": null,
            "right": null,
            "top": null,
            "visibility": null,
            "width": null
          }
        },
        "33d75f9a19204a64ab78db1f9763c83f": {
          "model_module": "@jupyter-widgets/controls",
          "model_name": "SliderStyleModel",
          "model_module_version": "1.5.0",
          "state": {
            "_model_module": "@jupyter-widgets/controls",
            "_model_module_version": "1.5.0",
            "_model_name": "SliderStyleModel",
            "_view_count": null,
            "_view_module": "@jupyter-widgets/base",
            "_view_module_version": "1.2.0",
            "_view_name": "StyleView",
            "description_width": "",
            "handle_color": null
          }
        },
        "312a5d56c73242b09c1c7ea8b883850c": {
          "model_module": "@jupyter-widgets/base",
          "model_name": "LayoutModel",
          "model_module_version": "1.2.0",
          "state": {
            "_model_module": "@jupyter-widgets/base",
            "_model_module_version": "1.2.0",
            "_model_name": "LayoutModel",
            "_view_count": null,
            "_view_module": "@jupyter-widgets/base",
            "_view_module_version": "1.2.0",
            "_view_name": "LayoutView",
            "align_content": null,
            "align_items": null,
            "align_self": null,
            "border": null,
            "bottom": null,
            "display": null,
            "flex": null,
            "flex_flow": null,
            "grid_area": null,
            "grid_auto_columns": null,
            "grid_auto_flow": null,
            "grid_auto_rows": null,
            "grid_column": null,
            "grid_gap": null,
            "grid_row": null,
            "grid_template_areas": null,
            "grid_template_columns": null,
            "grid_template_rows": null,
            "height": null,
            "justify_content": null,
            "justify_items": null,
            "left": null,
            "margin": null,
            "max_height": null,
            "max_width": null,
            "min_height": null,
            "min_width": null,
            "object_fit": null,
            "object_position": null,
            "order": null,
            "overflow": null,
            "overflow_x": null,
            "overflow_y": null,
            "padding": null,
            "right": null,
            "top": null,
            "visibility": null,
            "width": null
          }
        },
        "6e6e6fad04b144618539d597b6a89bab": {
          "model_module": "@jupyter-widgets/controls",
          "model_name": "SliderStyleModel",
          "model_module_version": "1.5.0",
          "state": {
            "_model_module": "@jupyter-widgets/controls",
            "_model_module_version": "1.5.0",
            "_model_name": "SliderStyleModel",
            "_view_count": null,
            "_view_module": "@jupyter-widgets/base",
            "_view_module_version": "1.2.0",
            "_view_name": "StyleView",
            "description_width": "",
            "handle_color": null
          }
        },
        "32a6dda5ad4247cfbb61d962d9fb564e": {
          "model_module": "@jupyter-widgets/base",
          "model_name": "LayoutModel",
          "model_module_version": "1.2.0",
          "state": {
            "_model_module": "@jupyter-widgets/base",
            "_model_module_version": "1.2.0",
            "_model_name": "LayoutModel",
            "_view_count": null,
            "_view_module": "@jupyter-widgets/base",
            "_view_module_version": "1.2.0",
            "_view_name": "LayoutView",
            "align_content": null,
            "align_items": null,
            "align_self": null,
            "border": null,
            "bottom": null,
            "display": null,
            "flex": null,
            "flex_flow": null,
            "grid_area": null,
            "grid_auto_columns": null,
            "grid_auto_flow": null,
            "grid_auto_rows": null,
            "grid_column": null,
            "grid_gap": null,
            "grid_row": null,
            "grid_template_areas": null,
            "grid_template_columns": null,
            "grid_template_rows": null,
            "height": null,
            "justify_content": null,
            "justify_items": null,
            "left": null,
            "margin": null,
            "max_height": null,
            "max_width": null,
            "min_height": null,
            "min_width": null,
            "object_fit": null,
            "object_position": null,
            "order": null,
            "overflow": null,
            "overflow_x": null,
            "overflow_y": null,
            "padding": null,
            "right": null,
            "top": null,
            "visibility": null,
            "width": null
          }
        },
        "9bc762343e504552a12f0c4dce028c67": {
          "model_module": "@jupyter-widgets/controls",
          "model_name": "SliderStyleModel",
          "model_module_version": "1.5.0",
          "state": {
            "_model_module": "@jupyter-widgets/controls",
            "_model_module_version": "1.5.0",
            "_model_name": "SliderStyleModel",
            "_view_count": null,
            "_view_module": "@jupyter-widgets/base",
            "_view_module_version": "1.2.0",
            "_view_name": "StyleView",
            "description_width": "",
            "handle_color": null
          }
        },
        "3918f6a95b454a0e9621ec5ba5b42d36": {
          "model_module": "@jupyter-widgets/base",
          "model_name": "LayoutModel",
          "model_module_version": "1.2.0",
          "state": {
            "_model_module": "@jupyter-widgets/base",
            "_model_module_version": "1.2.0",
            "_model_name": "LayoutModel",
            "_view_count": null,
            "_view_module": "@jupyter-widgets/base",
            "_view_module_version": "1.2.0",
            "_view_name": "LayoutView",
            "align_content": null,
            "align_items": null,
            "align_self": null,
            "border": null,
            "bottom": null,
            "display": null,
            "flex": null,
            "flex_flow": null,
            "grid_area": null,
            "grid_auto_columns": null,
            "grid_auto_flow": null,
            "grid_auto_rows": null,
            "grid_column": null,
            "grid_gap": null,
            "grid_row": null,
            "grid_template_areas": null,
            "grid_template_columns": null,
            "grid_template_rows": null,
            "height": null,
            "justify_content": null,
            "justify_items": null,
            "left": null,
            "margin": null,
            "max_height": null,
            "max_width": null,
            "min_height": null,
            "min_width": null,
            "object_fit": null,
            "object_position": null,
            "order": null,
            "overflow": null,
            "overflow_x": null,
            "overflow_y": null,
            "padding": null,
            "right": null,
            "top": null,
            "visibility": null,
            "width": null
          }
        },
        "0a5a44c1b8e44ecfb38eaf6dd12090f1": {
          "model_module": "@jupyter-widgets/controls",
          "model_name": "SliderStyleModel",
          "model_module_version": "1.5.0",
          "state": {
            "_model_module": "@jupyter-widgets/controls",
            "_model_module_version": "1.5.0",
            "_model_name": "SliderStyleModel",
            "_view_count": null,
            "_view_module": "@jupyter-widgets/base",
            "_view_module_version": "1.2.0",
            "_view_name": "StyleView",
            "description_width": "",
            "handle_color": null
          }
        },
        "3fe80ed53af44ce4a7c37355c300684c": {
          "model_module": "@jupyter-widgets/base",
          "model_name": "LayoutModel",
          "model_module_version": "1.2.0",
          "state": {
            "_model_module": "@jupyter-widgets/base",
            "_model_module_version": "1.2.0",
            "_model_name": "LayoutModel",
            "_view_count": null,
            "_view_module": "@jupyter-widgets/base",
            "_view_module_version": "1.2.0",
            "_view_name": "LayoutView",
            "align_content": null,
            "align_items": null,
            "align_self": null,
            "border": null,
            "bottom": null,
            "display": null,
            "flex": null,
            "flex_flow": null,
            "grid_area": null,
            "grid_auto_columns": null,
            "grid_auto_flow": null,
            "grid_auto_rows": null,
            "grid_column": null,
            "grid_gap": null,
            "grid_row": null,
            "grid_template_areas": null,
            "grid_template_columns": null,
            "grid_template_rows": null,
            "height": null,
            "justify_content": null,
            "justify_items": null,
            "left": null,
            "margin": null,
            "max_height": null,
            "max_width": null,
            "min_height": null,
            "min_width": null,
            "object_fit": null,
            "object_position": null,
            "order": null,
            "overflow": null,
            "overflow_x": null,
            "overflow_y": null,
            "padding": null,
            "right": null,
            "top": null,
            "visibility": null,
            "width": null
          }
        },
        "4a56eb43e74a41fe9e785a21af533b7a": {
          "model_module": "@jupyter-widgets/controls",
          "model_name": "SliderStyleModel",
          "model_module_version": "1.5.0",
          "state": {
            "_model_module": "@jupyter-widgets/controls",
            "_model_module_version": "1.5.0",
            "_model_name": "SliderStyleModel",
            "_view_count": null,
            "_view_module": "@jupyter-widgets/base",
            "_view_module_version": "1.2.0",
            "_view_name": "StyleView",
            "description_width": "",
            "handle_color": null
          }
        },
        "21b3617dd2b3423f97344602e52e340f": {
          "model_module": "@jupyter-widgets/base",
          "model_name": "LayoutModel",
          "model_module_version": "1.2.0",
          "state": {
            "_model_module": "@jupyter-widgets/base",
            "_model_module_version": "1.2.0",
            "_model_name": "LayoutModel",
            "_view_count": null,
            "_view_module": "@jupyter-widgets/base",
            "_view_module_version": "1.2.0",
            "_view_name": "LayoutView",
            "align_content": null,
            "align_items": null,
            "align_self": null,
            "border": null,
            "bottom": null,
            "display": null,
            "flex": null,
            "flex_flow": null,
            "grid_area": null,
            "grid_auto_columns": null,
            "grid_auto_flow": null,
            "grid_auto_rows": null,
            "grid_column": null,
            "grid_gap": null,
            "grid_row": null,
            "grid_template_areas": null,
            "grid_template_columns": null,
            "grid_template_rows": null,
            "height": null,
            "justify_content": null,
            "justify_items": null,
            "left": null,
            "margin": null,
            "max_height": null,
            "max_width": null,
            "min_height": null,
            "min_width": null,
            "object_fit": null,
            "object_position": null,
            "order": null,
            "overflow": null,
            "overflow_x": null,
            "overflow_y": null,
            "padding": null,
            "right": null,
            "top": null,
            "visibility": null,
            "width": null
          }
        },
        "167015d1edf045ac8cf159a89c001592": {
          "model_module": "@jupyter-widgets/controls",
          "model_name": "SliderStyleModel",
          "model_module_version": "1.5.0",
          "state": {
            "_model_module": "@jupyter-widgets/controls",
            "_model_module_version": "1.5.0",
            "_model_name": "SliderStyleModel",
            "_view_count": null,
            "_view_module": "@jupyter-widgets/base",
            "_view_module_version": "1.2.0",
            "_view_name": "StyleView",
            "description_width": "",
            "handle_color": null
          }
        },
        "63bd919ee54c48d4853496795be0e677": {
          "model_module": "@jupyter-widgets/base",
          "model_name": "LayoutModel",
          "model_module_version": "1.2.0",
          "state": {
            "_model_module": "@jupyter-widgets/base",
            "_model_module_version": "1.2.0",
            "_model_name": "LayoutModel",
            "_view_count": null,
            "_view_module": "@jupyter-widgets/base",
            "_view_module_version": "1.2.0",
            "_view_name": "LayoutView",
            "align_content": null,
            "align_items": null,
            "align_self": null,
            "border": null,
            "bottom": null,
            "display": null,
            "flex": null,
            "flex_flow": null,
            "grid_area": null,
            "grid_auto_columns": null,
            "grid_auto_flow": null,
            "grid_auto_rows": null,
            "grid_column": null,
            "grid_gap": null,
            "grid_row": null,
            "grid_template_areas": null,
            "grid_template_columns": null,
            "grid_template_rows": null,
            "height": null,
            "justify_content": null,
            "justify_items": null,
            "left": null,
            "margin": null,
            "max_height": null,
            "max_width": null,
            "min_height": null,
            "min_width": null,
            "object_fit": null,
            "object_position": null,
            "order": null,
            "overflow": null,
            "overflow_x": null,
            "overflow_y": null,
            "padding": null,
            "right": null,
            "top": null,
            "visibility": null,
            "width": null
          }
        }
      }
    }
  },
  "cells": [
    {
      "cell_type": "markdown",
      "source": [
        "**1. Simple Plot**"
      ],
      "metadata": {
        "id": "NQAunfeFHP8Y"
      }
    },
    {
      "cell_type": "code",
      "execution_count": 5,
      "metadata": {
        "id": "n7FMbs7n7hil"
      },
      "outputs": [],
      "source": [
        "import matplotlib.pyplot as plt\n",
        "import numpy as np"
      ]
    },
    {
      "cell_type": "code",
      "source": [
        "def reaction(i1, i2, i3, K1, K2, dt, T):\n",
        "    C1_values, C2_values, C3_values, time_values = [i1], [i2], [i3], [0]           #arrays to store concentrations and time\n",
        "    t = 0\n",
        "    while t < T:                                                                   #Simulation loop\n",
        "        # concentration difference calculated using differential equations given by the question\n",
        "        dC1_dt = K2 * C3_values[-1] - K1 * C1_values[-1] * C2_values[-1]\n",
        "        dC2_dt = K2 * C3_values[-1] - K1 * C1_values[-1] * C2_values[-1]\n",
        "        dC3_dt = 2 * K1 * C1_values[-1] * C2_values[-1] - 2 * K2 * C3_values[-1]\n",
        "\n",
        "        #Update the concentration\n",
        "        C1_new = C1_values[-1] + dC1_dt * dt\n",
        "        C2_new = C2_values[-1] + dC2_dt * dt\n",
        "        C3_new = C3_values[-1] + dC3_dt * dt\n",
        "\n",
        "        # Append the arrays\n",
        "        C1_values.append(C1_new)\n",
        "        C2_values.append(C2_new)\n",
        "        C3_values.append(C3_new)\n",
        "        t += dt\n",
        "        time_values.append(t)\n",
        "\n",
        "    return time_values, C1_values, C2_values, C3_values"
      ],
      "metadata": {
        "id": "gvjW8g6cExJN"
      },
      "execution_count": 6,
      "outputs": []
    },
    {
      "cell_type": "code",
      "source": [
        "i1, i2, i3 = 6,5,1\n",
        "K1, K2 = 0.1,0.2\n",
        "dt = 0.1\n",
        "T = 4"
      ],
      "metadata": {
        "id": "uj9YT6eME1Cd"
      },
      "execution_count": 7,
      "outputs": []
    },
    {
      "cell_type": "code",
      "source": [
        "time, C1, C2, C3 = reaction(i1,i2,i3,K1,K2,dt,T)"
      ],
      "metadata": {
        "id": "MBzbDstFE3nt"
      },
      "execution_count": 8,
      "outputs": []
    },
    {
      "cell_type": "code",
      "source": [
        "plt.figure(figsize=(10, 6))\n",
        "plt.plot(time, C1, label='C1')\n",
        "plt.plot(time, C2, label='C2')\n",
        "plt.plot(time, C3, label='C3')\n",
        "plt.title('Concentration of C1 over Time')\n",
        "plt.xlabel('Time')\n",
        "plt.ylabel('Concentration')\n",
        "plt.legend()\n",
        "plt.show()"
      ],
      "metadata": {
        "colab": {
          "base_uri": "https://localhost:8080/",
          "height": 564
        },
        "id": "Qeso1VPZE7eU",
        "outputId": "7acad69a-fb2a-418e-c31e-7df5128ac655"
      },
      "execution_count": 9,
      "outputs": [
        {
          "output_type": "display_data",
          "data": {
            "text/plain": [
              "<Figure size 1000x600 with 1 Axes>"
            ],
            "image/png": "[encoded data removed]"
          },
          "metadata": {}
        }
      ]
    },
    {
      "cell_type": "markdown",
      "source": [
        "**2. Interactive Plot**"
      ],
      "metadata": {
        "id": "v47GahgjHcg2"
      }
    },
    {
      "cell_type": "code",
      "source": [
        "!pip install ipywidgets"
      ],
      "metadata": {
        "colab": {
          "base_uri": "https://localhost:8080/"
        },
        "id": "qJlT0NyOHgK2",
        "outputId": "15ed8033-905d-49c5-edac-6df251217ef3"
      },
      "execution_count": 13,
      "outputs": [
        {
          "output_type": "stream",
          "name": "stdout",
          "text": [
            "Requirement already satisfied: ipywidgets in /usr/local/lib/python3.10/dist-packages (7.7.1)\n",
            "Requirement already satisfied: ipykernel>=4.5.1 in /usr/local/lib/python3.10/dist-packages (from ipywidgets) (5.5.6)\n",
            "Requirement already satisfied: ipython-genutils~=0.2.0 in /usr/local/lib/python3.10/dist-packages (from ipywidgets) (0.2.0)\n",
            "Requirement already satisfied: traitlets>=4.3.1 in /usr/local/lib/python3.10/dist-packages (from ipywidgets) (5.7.1)\n",
            "Requirement already satisfied: widgetsnbextension~=3.6.0 in /usr/local/lib/python3.10/dist-packages (from ipywidgets) (3.6.6)\n",
            "Requirement already satisfied: ipython>=4.0.0 in /usr/local/lib/python3.10/dist-packages (from ipywidgets) (7.34.0)\n",
            "Requirement already satisfied: jupyterlab-widgets>=1.0.0 in /usr/local/lib/python3.10/dist-packages (from ipywidgets) (3.0.9)\n",
            "Requirement already satisfied: jupyter-client in /usr/local/lib/python3.10/dist-packages (from ipykernel>=4.5.1->ipywidgets) (6.1.12)\n",
            "Requirement already satisfied: tornado>=4.2 in /usr/local/lib/python3.10/dist-packages (from ipykernel>=4.5.1->ipywidgets) (6.3.2)\n",
            "Requirement already satisfied: setuptools>=18.5 in /usr/local/lib/python3.10/dist-packages (from ipython>=4.0.0->ipywidgets) (67.7.2)\n",
            "Requirement already satisfied: jedi>=0.16 in /usr/local/lib/python3.10/dist-packages (from ipython>=4.0.0->ipywidgets) (0.19.1)\n",
            "Requirement already satisfied: decorator in /usr/local/lib/python3.10/dist-packages (from ipython>=4.0.0->ipywidgets) (4.4.2)\n",
            "Requirement already satisfied: pickleshare in /usr/local/lib/python3.10/dist-packages (from ipython>=4.0.0->ipywidgets) (0.7.5)\n",
            "Requirement already satisfied: prompt-toolkit!=3.0.0,!=3.0.1,<3.1.0,>=2.0.0 in /usr/local/lib/python3.10/dist-packages (from ipython>=4.0.0->ipywidgets) (3.0.41)\n",
            "Requirement already satisfied: pygments in /usr/local/lib/python3.10/dist-packages (from ipython>=4.0.0->ipywidgets) (2.16.1)\n",
            "Requirement already satisfied: backcall in /usr/local/lib/python3.10/dist-packages (from ipython>=4.0.0->ipywidgets) (0.2.0)\n",
            "Requirement already satisfied: matplotlib-inline in /usr/local/lib/python3.10/dist-packages (from ipython>=4.0.0->ipywidgets) (0.1.6)\n",
            "Requirement already satisfied: pexpect>4.3 in /usr/local/lib/python3.10/dist-packages (from ipython>=4.0.0->ipywidgets) (4.9.0)\n",
            "Requirement already satisfied: notebook>=4.4.1 in /usr/local/lib/python3.10/dist-packages (from widgetsnbextension~=3.6.0->ipywidgets) (6.5.5)\n",
            "Requirement already satisfied: parso<0.9.0,>=0.8.3 in /usr/local/lib/python3.10/dist-packages (from jedi>=0.16->ipython>=4.0.0->ipywidgets) (0.8.3)\n",
            "Requirement already satisfied: jinja2 in /usr/local/lib/python3.10/dist-packages (from notebook>=4.4.1->widgetsnbextension~=3.6.0->ipywidgets) (3.1.2)\n",
            "Requirement already satisfied: pyzmq<25,>=17 in /usr/local/lib/python3.10/dist-packages (from notebook>=4.4.1->widgetsnbextension~=3.6.0->ipywidgets) (23.2.1)\n",
            "Requirement already satisfied: argon2-cffi in /usr/local/lib/python3.10/dist-packages (from notebook>=4.4.1->widgetsnbextension~=3.6.0->ipywidgets) (23.1.0)\n",
            "Requirement already satisfied: jupyter-core>=4.6.1 in /usr/local/lib/python3.10/dist-packages (from notebook>=4.4.1->widgetsnbextension~=3.6.0->ipywidgets) (5.5.0)\n",
            "Requirement already satisfied: nbformat in /usr/local/lib/python3.10/dist-packages (from notebook>=4.4.1->widgetsnbextension~=3.6.0->ipywidgets) (5.9.2)\n",
            "Requirement already satisfied: nbconvert>=5 in /usr/local/lib/python3.10/dist-packages (from notebook>=4.4.1->widgetsnbextension~=3.6.0->ipywidgets) (6.5.4)\n",
            "Requirement already satisfied: nest-asyncio>=1.5 in /usr/local/lib/python3.10/dist-packages (from notebook>=4.4.1->widgetsnbextension~=3.6.0->ipywidgets) (1.5.8)\n",
            "Requirement already satisfied: Send2Trash>=1.8.0 in /usr/local/lib/python3.10/dist-packages (from notebook>=4.4.1->widgetsnbextension~=3.6.0->ipywidgets) (1.8.2)\n",
            "Requirement already satisfied: terminado>=0.8.3 in /usr/local/lib/python3.10/dist-packages (from notebook>=4.4.1->widgetsnbextension~=3.6.0->ipywidgets) (0.18.0)\n",
            "Requirement already satisfied: prometheus-client in /usr/local/lib/python3.10/dist-packages (from notebook>=4.4.1->widgetsnbextension~=3.6.0->ipywidgets) (0.19.0)\n",
            "Requirement already satisfied: nbclassic>=0.4.7 in /usr/local/lib/python3.10/dist-packages (from notebook>=4.4.1->widgetsnbextension~=3.6.0->ipywidgets) (1.0.0)\n",
            "Requirement already satisfied: python-dateutil>=2.1 in /usr/local/lib/python3.10/dist-packages (from jupyter-client->ipykernel>=4.5.1->ipywidgets) (2.8.2)\n",
            "Requirement already satisfied: ptyprocess>=0.5 in /usr/local/lib/python3.10/dist-packages (from pexpect>4.3->ipython>=4.0.0->ipywidgets) (0.7.0)\n",
            "Requirement already satisfied: wcwidth in /usr/local/lib/python3.10/dist-packages (from prompt-toolkit!=3.0.0,!=3.0.1,<3.1.0,>=2.0.0->ipython>=4.0.0->ipywidgets) (0.2.12)\n",
            "Requirement already satisfied: platformdirs>=2.5 in /usr/local/lib/python3.10/dist-packages (from jupyter-core>=4.6.1->notebook>=4.4.1->widgetsnbextension~=3.6.0->ipywidgets) (4.1.0)\n",
            "Requirement already satisfied: jupyter-server>=1.8 in /usr/local/lib/python3.10/dist-packages (from nbclassic>=0.4.7->notebook>=4.4.1->widgetsnbextension~=3.6.0->ipywidgets) (1.24.0)\n",
            "Requirement already satisfied: notebook-shim>=0.2.3 in /usr/local/lib/python3.10/dist-packages (from nbclassic>=0.4.7->notebook>=4.4.1->widgetsnbextension~=3.6.0->ipywidgets) (0.2.3)\n",
            "Requirement already satisfied: lxml in /usr/local/lib/python3.10/dist-packages (from nbconvert>=5->notebook>=4.4.1->widgetsnbextension~=3.6.0->ipywidgets) (4.9.3)\n",
            "Requirement already satisfied: beautifulsoup4 in /usr/local/lib/python3.10/dist-packages (from nbconvert>=5->notebook>=4.4.1->widgetsnbextension~=3.6.0->ipywidgets) (4.11.2)\n",
            "Requirement already satisfied: bleach in /usr/local/lib/python3.10/dist-packages (from nbconvert>=5->notebook>=4.4.1->widgetsnbextension~=3.6.0->ipywidgets) (6.1.0)\n",
            "Requirement already satisfied: defusedxml in /usr/local/lib/python3.10/dist-packages (from nbconvert>=5->notebook>=4.4.1->widgetsnbextension~=3.6.0->ipywidgets) (0.7.1)\n",
            "Requirement already satisfied: entrypoints>=0.2.2 in /usr/local/lib/python3.10/dist-packages (from nbconvert>=5->notebook>=4.4.1->widgetsnbextension~=3.6.0->ipywidgets) (0.4)\n",
            "Requirement already satisfied: jupyterlab-pygments in /usr/local/lib/python3.10/dist-packages (from nbconvert>=5->notebook>=4.4.1->widgetsnbextension~=3.6.0->ipywidgets) (0.3.0)\n",
            "Requirement already satisfied: MarkupSafe>=2.0 in /usr/local/lib/python3.10/dist-packages (from nbconvert>=5->notebook>=4.4.1->widgetsnbextension~=3.6.0->ipywidgets) (2.1.3)\n",
            "Requirement already satisfied: mistune<2,>=0.8.1 in /usr/local/lib/python3.10/dist-packages (from nbconvert>=5->notebook>=4.4.1->widgetsnbextension~=3.6.0->ipywidgets) (0.8.4)\n",
            "Requirement already satisfied: nbclient>=0.5.0 in /usr/local/lib/python3.10/dist-packages (from nbconvert>=5->notebook>=4.4.1->widgetsnbextension~=3.6.0->ipywidgets) (0.9.0)\n",
            "Requirement already satisfied: packaging in /usr/local/lib/python3.10/dist-packages (from nbconvert>=5->notebook>=4.4.1->widgetsnbextension~=3.6.0->ipywidgets) (23.2)\n",
            "Requirement already satisfied: pandocfilters>=1.4.1 in /usr/local/lib/python3.10/dist-packages (from nbconvert>=5->notebook>=4.4.1->widgetsnbextension~=3.6.0->ipywidgets) (1.5.0)\n",
            "Requirement already satisfied: tinycss2 in /usr/local/lib/python3.10/dist-packages (from nbconvert>=5->notebook>=4.4.1->widgetsnbextension~=3.6.0->ipywidgets) (1.2.1)\n",
            "Requirement already satisfied: fastjsonschema in /usr/local/lib/python3.10/dist-packages (from nbformat->notebook>=4.4.1->widgetsnbextension~=3.6.0->ipywidgets) (2.19.0)\n",
            "Requirement already satisfied: jsonschema>=2.6 in /usr/local/lib/python3.10/dist-packages (from nbformat->notebook>=4.4.1->widgetsnbextension~=3.6.0->ipywidgets) (4.19.2)\n",
            "Requirement already satisfied: six>=1.5 in /usr/local/lib/python3.10/dist-packages (from python-dateutil>=2.1->jupyter-client->ipykernel>=4.5.1->ipywidgets) (1.16.0)\n",
            "Requirement already satisfied: argon2-cffi-bindings in /usr/local/lib/python3.10/dist-packages (from argon2-cffi->notebook>=4.4.1->widgetsnbextension~=3.6.0->ipywidgets) (21.2.0)\n",
            "Requirement already satisfied: attrs>=22.2.0 in /usr/local/lib/python3.10/dist-packages (from jsonschema>=2.6->nbformat->notebook>=4.4.1->widgetsnbextension~=3.6.0->ipywidgets) (23.1.0)\n",
            "Requirement already satisfied: jsonschema-specifications>=2023.03.6 in /usr/local/lib/python3.10/dist-packages (from jsonschema>=2.6->nbformat->notebook>=4.4.1->widgetsnbextension~=3.6.0->ipywidgets) (2023.11.2)\n",
            "Requirement already satisfied: referencing>=0.28.4 in /usr/local/lib/python3.10/dist-packages (from jsonschema>=2.6->nbformat->notebook>=4.4.1->widgetsnbextension~=3.6.0->ipywidgets) (0.31.1)\n",
            "Requirement already satisfied: rpds-py>=0.7.1 in /usr/local/lib/python3.10/dist-packages (from jsonschema>=2.6->nbformat->notebook>=4.4.1->widgetsnbextension~=3.6.0->ipywidgets) (0.13.2)\n",
            "Requirement already satisfied: anyio<4,>=3.1.0 in /usr/local/lib/python3.10/dist-packages (from jupyter-server>=1.8->nbclassic>=0.4.7->notebook>=4.4.1->widgetsnbextension~=3.6.0->ipywidgets) (3.7.1)\n",
            "Requirement already satisfied: websocket-client in /usr/local/lib/python3.10/dist-packages (from jupyter-server>=1.8->nbclassic>=0.4.7->notebook>=4.4.1->widgetsnbextension~=3.6.0->ipywidgets) (1.7.0)\n",
            "Requirement already satisfied: cffi>=1.0.1 in /usr/local/lib/python3.10/dist-packages (from argon2-cffi-bindings->argon2-cffi->notebook>=4.4.1->widgetsnbextension~=3.6.0->ipywidgets) (1.16.0)\n",
            "Requirement already satisfied: soupsieve>1.2 in /usr/local/lib/python3.10/dist-packages (from beautifulsoup4->nbconvert>=5->notebook>=4.4.1->widgetsnbextension~=3.6.0->ipywidgets) (2.5)\n",
            "Requirement already satisfied: webencodings in /usr/local/lib/python3.10/dist-packages (from bleach->nbconvert>=5->notebook>=4.4.1->widgetsnbextension~=3.6.0->ipywidgets) (0.5.1)\n",
            "Requirement already satisfied: idna>=2.8 in /usr/local/lib/python3.10/dist-packages (from anyio<4,>=3.1.0->jupyter-server>=1.8->nbclassic>=0.4.7->notebook>=4.4.1->widgetsnbextension~=3.6.0->ipywidgets) (3.6)\n",
            "Requirement already satisfied: sniffio>=1.1 in /usr/local/lib/python3.10/dist-packages (from anyio<4,>=3.1.0->jupyter-server>=1.8->nbclassic>=0.4.7->notebook>=4.4.1->widgetsnbextension~=3.6.0->ipywidgets) (1.3.0)\n",
            "Requirement already satisfied: exceptiongroup in /usr/local/lib/python3.10/dist-packages (from anyio<4,>=3.1.0->jupyter-server>=1.8->nbclassic>=0.4.7->notebook>=4.4.1->widgetsnbextension~=3.6.0->ipywidgets) (1.2.0)\n",
            "Requirement already satisfied: pycparser in /usr/local/lib/python3.10/dist-packages (from cffi>=1.0.1->argon2-cffi-bindings->argon2-cffi->notebook>=4.4.1->widgetsnbextension~=3.6.0->ipywidgets) (2.21)\n"
          ]
        }
      ]
    },
    {
      "cell_type": "code",
      "source": [
        "import matplotlib.pyplot as plt\n",
        "import numpy as np\n",
        "from ipywidgets import interact, FloatSlider"
      ],
      "metadata": {
        "id": "UlqkeQhAHq6K"
      },
      "execution_count": 15,
      "outputs": []
    },
    {
      "cell_type": "code",
      "source": [
        "def simulate_reaction(initial_conditions, rate_constants, simulation_time, time_step):\n",
        "    c1, c2, c3 = initial_conditions\n",
        "    k1, k2, k3 = rate_constants\n",
        "    time_values = [0]\n",
        "    c1_values = [c1]\n",
        "    c2_values = [c2]\n",
        "    c3_values = [c3]\n",
        "\n",
        "    while time_values[-1] < simulation_time:\n",
        "        dc1 = k2 * c3 - k1 * c1 * c2\n",
        "        dc2 = k2 * c3 - k1 * c1 * c2\n",
        "        dc3 = 2 * k1 * c1 * c2 - 2 * k2 * c3\n",
        "        c1 += dc1 * time_step\n",
        "        c2 += dc2 * time_step\n",
        "        c3 += dc3 * time_step\n",
        "        time_values.append(time_values[-1] + time_step)\n",
        "        c1_values.append(c1)\n",
        "        c2_values.append(c2)\n",
        "        c3_values.append(c3)\n",
        "\n",
        "    return time_values, c1_values, c2_values, c3_values"
      ],
      "metadata": {
        "id": "hLoxa__CHvXF"
      },
      "execution_count": 17,
      "outputs": []
    },
    {
      "cell_type": "code",
      "source": [
        "def plot_reaction_interactive(c1=1, c2=2, c3=3, k1=0.07, k2=0.01, k3=1):\n",
        "    initial_conditions = [c1, c2, c3]\n",
        "    rate_constants = [k1, k2, k3]\n",
        "    simulation_time = 10\n",
        "    time_step = 0.1\n",
        "\n",
        "    time, amount_c1, amount_c2, amount_c3 = simulate_reaction(\n",
        "        initial_conditions, rate_constants, simulation_time, time_step\n",
        "    )\n",
        "\n",
        "    plt.figure(figsize=(10, 6))\n",
        "    plt.plot(time, amount_c1, label='c1', color='red', marker=\"*\")\n",
        "    plt.plot(time, amount_c2, label='c2', color='blue', marker=\"+\")\n",
        "    plt.plot(time, amount_c3, label='c3', color='green', marker=\"o\")\n",
        "    plt.xlabel('Time')\n",
        "    plt.ylabel('Amount')\n",
        "    plt.title('Amount of reactants during a chemical reaction')\n",
        "    plt.legend()\n",
        "    plt.grid(True)\n",
        "    plt.show()"
      ],
      "metadata": {
        "id": "lKCrbCY5H4Dh"
      },
      "execution_count": 18,
      "outputs": []
    },
    {
      "cell_type": "code",
      "source": [
        "interact(plot_reaction_interactive,\n",
        "         c1=FloatSlider(min=0, max=5, step=0.1, value=1),\n",
        "         c2=FloatSlider(min=0, max=5, step=0.1, value=2),\n",
        "         c3=FloatSlider(min=0, max=5, step=0.1, value=3),\n",
        "         k1=FloatSlider(min=0, max=1, step=0.01, value=0.07),\n",
        "         k2=FloatSlider(min=0, max=1, step=0.01, value=0.01),\n",
        "         k3=FloatSlider(min=0, max=1, step=0.1, value=1))\n"
      ],
      "metadata": {
        "colab": {
          "base_uri": "https://localhost:8080/",
          "height": 773,
          "referenced_widgets": [
            "afcde82c8bfa476794a80b16a46c46af",
            "fc9946f6f7014a4eb53436fdfcb50ba9",
            "f1e9e7329bdd4a52bbdc68156a2389e3",
            "9603af05ac484d16a90ef03f4dfd8886",
            "151d2c518c5c48539fc73e9c85582315",
            "2707fd1e09714f0aa7b0d53fbef40c7f",
            "9c42b73e7913449e86b897d27a22d703",
            "e9ec3fe609d8467cae567094ba415461",
            "04181a5e8b1c4f4592bc328cceafb27c",
            "531801055fec4f2c980dd4d7caba5787",
            "33d75f9a19204a64ab78db1f9763c83f",
            "312a5d56c73242b09c1c7ea8b883850c",
            "6e6e6fad04b144618539d597b6a89bab",
            "32a6dda5ad4247cfbb61d962d9fb564e",
            "9bc762343e504552a12f0c4dce028c67",
            "3918f6a95b454a0e9621ec5ba5b42d36",
            "0a5a44c1b8e44ecfb38eaf6dd12090f1",
            "3fe80ed53af44ce4a7c37355c300684c",
            "4a56eb43e74a41fe9e785a21af533b7a",
            "21b3617dd2b3423f97344602e52e340f",
            "167015d1edf045ac8cf159a89c001592",
            "63bd919ee54c48d4853496795be0e677"
          ]
        },
        "id": "rOtmo6W2C21z",
        "outputId": "e47080a7-36e4-444d-f838-c0acbf7a7383"
      },
      "execution_count": 19,
      "outputs": [
        {
          "output_type": "display_data",
          "data": {
            "text/plain": [
              "interactive(children=(FloatSlider(value=1.0, description='c1', max=5.0), FloatSlider(value=2.0, description='c…"
            ],
            "application/vnd.jupyter.widget-view+json": {
              "version_major": 2,
              "version_minor": 0,
              "model_id": "afcde82c8bfa476794a80b16a46c46af"
            }
          },
          "metadata": {}
        },
        {
          "output_type": "execute_result",
          "data": {
            "text/plain": [
              "<function __main__.plot_reaction_interactive(c1=1, c2=2, c3=3, k1=0.07, k2=0.01, k3=1)>"
            ]
          },
          "metadata": {},
          "execution_count": 19
        }
      ]
    },
    {
      "cell_type": "code",
      "source": [],
      "metadata": {
        "id": "CsTTGRSJHCnX"
      },
      "execution_count": null,
      "outputs": []
    }
  ]
}